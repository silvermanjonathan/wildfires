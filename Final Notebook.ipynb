{
 "cells": [
  {
   "cell_type": "markdown",
   "metadata": {
    "ExecuteTime": {
     "end_time": "2021-05-05T22:17:26.359068Z",
     "start_time": "2021-05-05T22:17:26.356527Z"
    }
   },
   "source": [
    "# Introduction"
   ]
  },
  {
   "cell_type": "markdown",
   "metadata": {},
   "source": [
    "------------------------------------------------"
   ]
  },
  {
   "cell_type": "markdown",
   "metadata": {},
   "source": [
    "Wildfires can have many causes, which are determined by expert investigators.  Sometimes, the cause of a fire is obvious: an eyewitness account of arsonists leaving the scene of the crime. However it isn't always an open and shut case nor is it always arson. Other causes can be debris burning, equipment use, lightning, or a campfire gone awry. An investigation is always required. Can machine learning algorithms assist investigators of wildfires?  This is the question I set out to explore. \n",
    "\n",
    "\n",
    "\n",
    "In order to build a model, data is required; the more data the better. Mercifully, there’s a fairly clean dataset of over a million wildfires found on Kaggle.  The dataset has many variables. However, not all given variables will be used in the model. Furthermore, part of the art of model building entails bringing in extra variables from different datasets.\n",
    "\n",
    "A very reasonable feature to include in the modeling process is weather. Getting the weather for 1.88 million rows of data was the most challenging part of the project for a novice coder like myself. Trial and error on 1.88 million rows of data will take forever to compute. Fortunately, I thought of clever shortcuts which are detailed in the notebook. \n",
    "\n",
    "\n",
    "\n",
    "Modeling is developed iteratively. In other words,  a base model whose measures of veracity are overall improved with sequential modeling decisions, leading to new models.  At the very least, the model should be better than chance. In a binary classification model, accuracy should be better than 50%.  The base model here gives the right answer 61% of the time, and is a simple logistic model without exogenous features.\n",
    "\n",
    "\n",
    "\n",
    "For evaluating our model simplistically, we can look at accuracy. The number of observations correctly classified over the total possible number of observations is accuracy.  This is also called the True Positive rate.  Further metrics to get a comprehensive picture of model performance are detailed in the notebook.\n"
   ]
  },
  {
   "cell_type": "markdown",
   "metadata": {},
   "source": [
    "-----------------------------------------"
   ]
  },
  {
   "cell_type": "markdown",
   "metadata": {
    "ExecuteTime": {
     "end_time": "2021-05-05T22:25:06.409242Z",
     "start_time": "2021-05-05T22:25:06.407013Z"
    }
   },
   "source": [
    "# Import Necessary Packages and Modules Here"
   ]
  },
  {
   "cell_type": "markdown",
   "metadata": {},
   "source": [
    "-------------------------"
   ]
  },
  {
   "cell_type": "code",
   "execution_count": 1,
   "metadata": {
    "ExecuteTime": {
     "end_time": "2021-05-11T22:22:44.978445Z",
     "start_time": "2021-05-11T22:22:42.181713Z"
    }
   },
   "outputs": [],
   "source": [
    "\n",
    "from math import sin, cos, sqrt, atan2, radians\n",
    "\n",
    "import pandas as pd\n",
    "\n",
    "import numpy as np\n",
    "\n",
    "import seaborn as sns\n",
    "\n",
    "import matplotlib.pyplot as plt\n",
    "\n",
    "from wordcloud import WordCloud\n",
    "\n",
    "from collections import OrderedDict\n",
    "\n",
    "import sqlite3\n",
    "\n",
    "import datetime\n",
    "\n",
    "import operator\n",
    "\n",
    "import requests\n",
    "\n",
    "import sklearn.neighbors\n",
    "\n",
    "from sklearn.linear_model import LogisticRegression\n",
    "\n",
    "from sklearn.model_selection import train_test_split\n",
    "\n",
    "from imblearn.over_sampling import SMOTE"
   ]
  },
  {
   "cell_type": "markdown",
   "metadata": {
    "ExecuteTime": {
     "end_time": "2021-05-05T22:26:38.450491Z",
     "start_time": "2021-05-05T22:26:38.446714Z"
    }
   },
   "source": [
    "-------------------------"
   ]
  },
  {
   "cell_type": "markdown",
   "metadata": {
    "ExecuteTime": {
     "end_time": "2021-05-05T22:28:10.619370Z",
     "start_time": "2021-05-05T22:28:10.617085Z"
    }
   },
   "source": [
    "# Data Preparation For the Feature of Weather"
   ]
  },
  {
   "cell_type": "markdown",
   "metadata": {
    "ExecuteTime": {
     "end_time": "2021-05-05T22:27:22.089645Z",
     "start_time": "2021-05-05T22:27:22.086317Z"
    }
   },
   "source": [
    "---------------------------------------"
   ]
  },
  {
   "cell_type": "markdown",
   "metadata": {
    "ExecuteTime": {
     "end_time": "2021-05-06T00:09:59.238394Z",
     "start_time": "2021-05-06T00:09:59.236256Z"
    }
   },
   "source": [
    "## A Function To Get NOAA Stations"
   ]
  },
  {
   "cell_type": "markdown",
   "metadata": {},
   "source": [
    "NOAA is the National Oceanic and Atmospheric Administration for the USA. I always thought that was a good acronym for an organization concerned with weather.  NOAA sounds like Noah, the protagonist in the Biblcial Flood story, and a flood is an extreme weather event. But I digress.\n",
    "\n",
    "NOAA has weather stations all across the United States. NOAA also makes its historical weather data free to use. Therefore, NOAA is a natural choice for getting historical weather conditions for a data science project. My objective is to get the historical weather conditions for 1.88 million wildfires from 1992 to 2015. This objective is do-able, but requires breaking it down into smaller tasks. \n",
    "\n",
    "First, I need a list of all the weather stations and their geographic coordinates. However this list wasn't available. I would have to create this list myself.  Fortunately, NOAA lets you download a spreadsheet for the weather on a single day in any state.  It's a request I make on the website and only takes a few minutes to process. When my request is processed, I am sent a link to a website, with the cvs file. This is not an API request. It's manually navigating buttons on a website, done fifty times. \n",
    "\n",
    "Then I created a function that will quickly visit these websites, change the cvs file into a dataframe, extract the relevant data, and put that into a new dataframe. These urls will be defunct after a time period. For ease of reproducibility, the function saves its results in a cvs file on the computer.   "
   ]
  },
  {
   "cell_type": "code",
   "execution_count": 2,
   "metadata": {
    "ExecuteTime": {
     "end_time": "2021-05-11T22:22:44.986145Z",
     "start_time": "2021-05-11T22:22:44.980978Z"
    }
   },
   "outputs": [],
   "source": [
    "def NOAA_stations(url):\n",
    "    \n",
    "    df = pd.read_csv(url)\n",
    "\n",
    "    # Backup csv file from the web\n",
    "    df.to_csv(url[-11:], index=False)\n",
    "\n",
    "    api_station_name = ['GHCND:' + i for i in df.STATION.values]\n",
    "\n",
    "    api_station_state = [df.NAME[0][-5:-3] for i in range(len(df))]\n",
    "    \n",
    "    api_station_latitude = df.LATITUDE\n",
    "\n",
    "    api_station_longitude = df.LONGITUDE\n",
    "\n",
    "    columns = ['name', 'state', 'latitude', 'longitude']\n",
    "\n",
    "    data = [api_station_name, api_station_state,\n",
    "            api_station_latitude, api_station_longitude]\n",
    "\n",
    "    data = dict(zip(columns, data))\n",
    "\n",
    "    return pd.DataFrame(data)"
   ]
  },
  {
   "cell_type": "markdown",
   "metadata": {},
   "source": [
    "Backup the function's results"
   ]
  },
  {
   "cell_type": "markdown",
   "metadata": {},
   "source": [
    "NOAA_stations_df = pd.concat(df_list, axis = 0)\n",
    "NOAA_stations_df.to_csv('NOAA_stations_df.csv', index = False)"
   ]
  },
  {
   "cell_type": "markdown",
   "metadata": {
    "ExecuteTime": {
     "end_time": "2021-05-05T23:12:52.943500Z",
     "start_time": "2021-05-05T23:12:52.939236Z"
    }
   },
   "source": [
    "-----------------------------------------------------------------------------------------"
   ]
  },
  {
   "cell_type": "markdown",
   "metadata": {
    "ExecuteTime": {
     "end_time": "2021-05-06T00:08:54.767354Z",
     "start_time": "2021-05-06T00:08:54.765336Z"
    }
   },
   "source": [
    "##   Import NOAA Weather Stations & Locations"
   ]
  },
  {
   "cell_type": "code",
   "execution_count": 3,
   "metadata": {
    "ExecuteTime": {
     "end_time": "2021-05-11T22:22:45.141383Z",
     "start_time": "2021-05-11T22:22:44.988576Z"
    }
   },
   "outputs": [],
   "source": [
    "NOAA_stations_df = pd.read_csv('NOAA_stations_df.csv')\n",
    "NOAA_stations_df.drop('index', axis = 1, inplace = True)"
   ]
  },
  {
   "cell_type": "markdown",
   "metadata": {
    "ExecuteTime": {
     "end_time": "2021-05-06T00:17:56.847731Z",
     "start_time": "2021-05-06T00:17:56.845738Z"
    }
   },
   "source": [
    "# The magic of rounding"
   ]
  },
  {
   "cell_type": "markdown",
   "metadata": {},
   "source": [
    "At this point, we have a list of all the NOAA weather stations in the United States, with their precise geographic coordinates. We can now determine which station is closer to which wildfire. This will be done through trial and error. However, without using any shortcuts it will take too long.  A major shortcut is rounding.  \n",
    "\n",
    "In our dataset, the coordinates of wildfires is give to several decimal places. However there are way fewer weather stations than wildfire incidents.  We won't actually lose that much information, if we round the wildfires' coordinates to the ones place.  The number of unique locations drops a lot."
   ]
  },
  {
   "cell_type": "markdown",
   "metadata": {
    "ExecuteTime": {
     "end_time": "2021-05-06T00:32:06.043610Z",
     "start_time": "2021-05-06T00:32:06.040465Z"
    }
   },
   "source": [
    "Importing the original dataset of wildfires data from Kaggle. This is a very large dataset.  Therefore, you must download it into your own computer.  Find it on https://www.kaggle.com/rtatman/188-million-us-wildfires"
   ]
  },
  {
   "cell_type": "code",
   "execution_count": 4,
   "metadata": {
    "ExecuteTime": {
     "end_time": "2021-05-11T22:24:11.959861Z",
     "start_time": "2021-05-11T22:22:45.143835Z"
    }
   },
   "outputs": [],
   "source": [
    "conn = sqlite3.connect('wildfires.sqlite')\n",
    "\n",
    "cur = conn.cursor()\n",
    "\n",
    "df = pd.read_sql_query(\"select * from fires;\", conn)\n",
    "\n",
    "df.to_csv('wildfires.csv', index=False)"
   ]
  },
  {
   "cell_type": "code",
   "execution_count": 5,
   "metadata": {
    "ExecuteTime": {
     "end_time": "2021-05-11T22:24:26.417754Z",
     "start_time": "2021-05-11T22:24:11.961662Z"
    }
   },
   "outputs": [
    {
     "name": "stderr",
     "output_type": "stream",
     "text": [
      "/Users/jonathansilverman/opt/anaconda3/lib/python3.8/site-packages/IPython/core/interactiveshell.py:3146: DtypeWarning: Columns (8,10,11,12,13,14,15,16,17,18,35,37) have mixed types.Specify dtype option on import or set low_memory=False.\n",
      "  has_raised = await self.run_ast_nodes(code_ast.body, cell_name,\n"
     ]
    }
   ],
   "source": [
    "df = pd.read_csv(\"wildfires.csv\")"
   ]
  },
  {
   "cell_type": "code",
   "execution_count": 6,
   "metadata": {
    "ExecuteTime": {
     "end_time": "2021-05-11T22:24:26.466348Z",
     "start_time": "2021-05-11T22:24:26.420161Z"
    }
   },
   "outputs": [],
   "source": [
    "wildfires_coordinates_df = df[['OBJECTID','STATE','LATITUDE','LONGITUDE']]"
   ]
  },
  {
   "cell_type": "code",
   "execution_count": 7,
   "metadata": {
    "ExecuteTime": {
     "end_time": "2021-05-11T22:24:31.041965Z",
     "start_time": "2021-05-11T22:24:26.469055Z"
    }
   },
   "outputs": [
    {
     "name": "stdout",
     "output_type": "stream",
     "text": [
      "The number of observations  1880465\n",
      "The number of unique latitudes  894061\n",
      "How the number of unique latitudes changes with rounding \n",
      "[48, 434, 3896, 30189, 221206, 694384, 843160, 863127, 894061]\n"
     ]
    }
   ],
   "source": [
    "print(\"The number of observations \" ,len(df))\n",
    "\n",
    "print(\"The number of unique latitudes \" ,len(set(wildfires_coordinates_df.LATITUDE)))\n",
    "\n",
    "rounding_effects_lat = [len(set(wildfires_coordinates_df.LATITUDE.round(i))) for i in range(9)]\n",
    "\n",
    "print(\"How the number of unique latitudes changes with rounding \")\n",
    "print(rounding_effects_lat)"
   ]
  },
  {
   "cell_type": "markdown",
   "metadata": {},
   "source": [
    "This is a subset of the original dataset with only the features we need for finding the closest weather stations."
   ]
  },
  {
   "cell_type": "code",
   "execution_count": 8,
   "metadata": {
    "ExecuteTime": {
     "end_time": "2021-05-11T22:24:31.068947Z",
     "start_time": "2021-05-11T22:24:31.046255Z"
    }
   },
   "outputs": [
    {
     "name": "stderr",
     "output_type": "stream",
     "text": [
      "<ipython-input-8-a5abb5ad7a92>:1: SettingWithCopyWarning: \n",
      "A value is trying to be set on a copy of a slice from a DataFrame.\n",
      "Try using .loc[row_indexer,col_indexer] = value instead\n",
      "\n",
      "See the caveats in the documentation: https://pandas.pydata.org/pandas-docs/stable/user_guide/indexing.html#returning-a-view-versus-a-copy\n",
      "  wildfires_coordinates_df['LATITUDE'] = wildfires_coordinates_df.LATITUDE.round()\n",
      "<ipython-input-8-a5abb5ad7a92>:3: SettingWithCopyWarning: \n",
      "A value is trying to be set on a copy of a slice from a DataFrame.\n",
      "Try using .loc[row_indexer,col_indexer] = value instead\n",
      "\n",
      "See the caveats in the documentation: https://pandas.pydata.org/pandas-docs/stable/user_guide/indexing.html#returning-a-view-versus-a-copy\n",
      "  wildfires_coordinates_df['LONGITUDE'] = wildfires_coordinates_df.LONGITUDE.round()\n"
     ]
    }
   ],
   "source": [
    "wildfires_coordinates_df['LATITUDE'] = wildfires_coordinates_df.LATITUDE.round()\n",
    "\n",
    "wildfires_coordinates_df['LONGITUDE'] = wildfires_coordinates_df.LONGITUDE.round()"
   ]
  },
  {
   "cell_type": "markdown",
   "metadata": {},
   "source": [
    "Now that the latitudes and longitudes are rounded, some geographic coordinates may be repeated. \n",
    "In order to find the unique coordinates, we have to look at latitude and longitude together for each observation.\n",
    "Therefore we will turn them into tuples. "
   ]
  },
  {
   "cell_type": "code",
   "execution_count": 9,
   "metadata": {
    "ExecuteTime": {
     "end_time": "2021-05-11T22:24:32.182270Z",
     "start_time": "2021-05-11T22:24:31.072024Z"
    }
   },
   "outputs": [
    {
     "name": "stderr",
     "output_type": "stream",
     "text": [
      "<ipython-input-9-01b0add0e647>:3: SettingWithCopyWarning: \n",
      "A value is trying to be set on a copy of a slice from a DataFrame.\n",
      "Try using .loc[row_indexer,col_indexer] = value instead\n",
      "\n",
      "See the caveats in the documentation: https://pandas.pydata.org/pandas-docs/stable/user_guide/indexing.html#returning-a-view-versus-a-copy\n",
      "  wildfires_coordinates_df['LAT_LONG'] = lat_long_tups\n"
     ]
    }
   ],
   "source": [
    "lat_long_tups = list(zip(wildfires_coordinates_df.LATITUDE.values ,wildfires_coordinates_df.LONGITUDE.values))\n",
    "\n",
    "wildfires_coordinates_df['LAT_LONG'] = lat_long_tups"
   ]
  },
  {
   "cell_type": "markdown",
   "metadata": {},
   "source": [
    "-------------------------------------------------------------------"
   ]
  },
  {
   "cell_type": "markdown",
   "metadata": {
    "ExecuteTime": {
     "end_time": "2021-05-06T00:44:26.222773Z",
     "start_time": "2021-05-06T00:44:26.220459Z"
    }
   },
   "source": [
    "# Creating a Dictionary: Wildfire coordinates to OrderIDs"
   ]
  },
  {
   "cell_type": "markdown",
   "metadata": {},
   "source": [
    "We make a dictionary that has the unique tuples and all the objectids assocaited with them."
   ]
  },
  {
   "cell_type": "code",
   "execution_count": 10,
   "metadata": {
    "ExecuteTime": {
     "end_time": "2021-05-11T22:28:08.756813Z",
     "start_time": "2021-05-11T22:24:32.185046Z"
    }
   },
   "outputs": [],
   "source": [
    "lat_long_tups_unique = wildfires_coordinates_df.LAT_LONG.value_counts()\n",
    "\n",
    "\n",
    "lat_long_tups_unique = list(lat_long_tups_unique.index)\n",
    "\n",
    "\n",
    "values = [wildfires_coordinates_df[wildfires_coordinates_df.LAT_LONG ==\n",
    "                                   i].OBJECTID.values for i in lat_long_tups_unique]\n",
    "\n",
    "geo_dict = dict(zip(lat_long_tups_unique, values))"
   ]
  },
  {
   "cell_type": "markdown",
   "metadata": {},
   "source": [
    "---------------------------------------------------------------"
   ]
  },
  {
   "cell_type": "markdown",
   "metadata": {},
   "source": [
    "# Creating a Dictionary of OrderIDs to other OrderIDs."
   ]
  },
  {
   "cell_type": "markdown",
   "metadata": {},
   "source": [
    "The values in the code below are all the OrderIDs which share a common geographic coordinate for their wildfire. It follows, that a single orderID can act as a key for all the orderIDs, including itself which have the same wildfire coordinates. "
   ]
  },
  {
   "cell_type": "code",
   "execution_count": 11,
   "metadata": {
    "ExecuteTime": {
     "end_time": "2021-05-11T22:28:08.763356Z",
     "start_time": "2021-05-11T22:28:08.758768Z"
    }
   },
   "outputs": [],
   "source": [
    "new_keys = [i[0] for i in values]\n",
    "\n",
    "orderID_group_dict = dict(zip(new_keys,values))"
   ]
  },
  {
   "cell_type": "markdown",
   "metadata": {
    "ExecuteTime": {
     "end_time": "2021-05-06T00:06:43.317915Z",
     "start_time": "2021-05-06T00:06:43.314238Z"
    }
   },
   "source": [
    "-----------------------------------------------------------------"
   ]
  },
  {
   "cell_type": "markdown",
   "metadata": {
    "ExecuteTime": {
     "end_time": "2021-05-06T00:59:43.470142Z",
     "start_time": "2021-05-06T00:59:43.468048Z"
    }
   },
   "source": [
    "# Haversian Distance"
   ]
  },
  {
   "cell_type": "markdown",
   "metadata": {},
   "source": [
    "Calculating the distance between two points on a sphere requires some special mathematics.  Fortunately there are functions already made to calculate such distances, called Haversian distances.  Calculations with Haversian distances are done in radians. Latitude and longitude must be converted into radians. I adapted the code from this resource on Haversian Distances:   https://codeburst.io/calculate-haversine-distance-between-two-geo-locations-with-python-439186315f1b"
   ]
  },
  {
   "cell_type": "code",
   "execution_count": 12,
   "metadata": {
    "ExecuteTime": {
     "end_time": "2021-05-11T22:29:18.149456Z",
     "start_time": "2021-05-11T22:28:08.766689Z"
    }
   },
   "outputs": [],
   "source": [
    "NOAA_stations_df[['lat_radians_Y', 'long_radians_Y']] = (\n",
    "    np.radians(NOAA_stations_df.loc[:, ['latitude', 'longitude']]))\n",
    "\n",
    "\n",
    "Places_X = pd.DataFrame({'OBJECTID': [i[0] for i in values],\n",
    "                         'latitude': [i[0] for i in lat_long_tups_unique],\n",
    "                         'longitude': [i[-1] for i in lat_long_tups_unique]})\n",
    "\n",
    "\n",
    "Places_X[['lat_radians_X', 'long_radians_X']] = np.radians(\n",
    "    Places_X.loc[:, ['latitude', 'longitude']])\n",
    "\n",
    "dist = sklearn.neighbors.DistanceMetric.get_metric('haversine')\n",
    "\n",
    "dist_matrix = (dist.pairwise\n",
    "               (Places_X[['lat_radians_X', 'long_radians_X']],\n",
    "                NOAA_stations_df[['lat_radians_Y', 'long_radians_Y']])*3959\n",
    "               )\n",
    "\n",
    "df_dist_matrix = (\n",
    "    pd.DataFrame(dist_matrix,index=Places_X['OBJECTID'], \n",
    "                 columns=NOAA_stations_df['name'])\n",
    ")\n",
    "\n",
    "\n",
    "df_dist_unpv = (\n",
    "    pd.melt(df_dist_matrix.reset_index(),id_vars='OBJECTID')\n",
    ")\n"
   ]
  },
  {
   "cell_type": "code",
   "execution_count": 13,
   "metadata": {
    "ExecuteTime": {
     "end_time": "2021-05-11T22:40:35.225949Z",
     "start_time": "2021-05-11T22:29:18.179886Z"
    }
   },
   "outputs": [
    {
     "name": "stdout",
     "output_type": "stream",
     "text": [
      "0.0008116883116883117\n",
      "0.0016233766233766235\n",
      "0.002435064935064935\n",
      "0.003246753246753247\n",
      "0.004058441558441558\n",
      "0.00487012987012987\n",
      "0.005681818181818182\n",
      "0.006493506493506494\n",
      "0.007305194805194805\n",
      "0.008116883116883116\n",
      "0.008928571428571428\n",
      "0.00974025974025974\n",
      "0.010551948051948052\n",
      "0.011363636363636364\n",
      "0.012175324675324676\n",
      "0.012987012987012988\n",
      "0.013798701298701298\n",
      "0.01461038961038961\n",
      "0.015422077922077922\n",
      "0.016233766233766232\n",
      "0.017045454545454544\n",
      "0.017857142857142856\n",
      "0.018668831168831168\n",
      "0.01948051948051948\n",
      "0.020292207792207792\n",
      "0.021103896103896104\n",
      "0.021915584415584416\n",
      "0.022727272727272728\n",
      "0.02353896103896104\n",
      "0.024350649350649352\n",
      "0.025162337662337664\n",
      "0.025974025974025976\n",
      "0.026785714285714284\n",
      "0.027597402597402596\n",
      "0.028409090909090908\n",
      "0.02922077922077922\n",
      "0.030032467532467532\n",
      "0.030844155844155844\n",
      "0.03165584415584415\n",
      "0.032467532467532464\n",
      "0.033279220779220776\n",
      "0.03409090909090909\n",
      "0.0349025974025974\n",
      "0.03571428571428571\n",
      "0.036525974025974024\n",
      "0.037337662337662336\n",
      "0.03814935064935065\n",
      "0.03896103896103896\n",
      "0.03977272727272727\n",
      "0.040584415584415584\n",
      "0.041396103896103896\n",
      "0.04220779220779221\n",
      "0.04301948051948052\n",
      "0.04383116883116883\n",
      "0.044642857142857144\n",
      "0.045454545454545456\n",
      "0.04626623376623377\n",
      "0.04707792207792208\n",
      "0.04788961038961039\n",
      "0.048701298701298704\n",
      "0.049512987012987016\n",
      "0.05032467532467533\n",
      "0.05113636363636364\n",
      "0.05194805194805195\n",
      "0.052759740259740256\n",
      "0.05357142857142857\n",
      "0.05438311688311688\n",
      "0.05519480519480519\n",
      "0.056006493506493504\n",
      "0.056818181818181816\n",
      "0.05762987012987013\n",
      "0.05844155844155844\n",
      "0.05925324675324675\n",
      "0.060064935064935064\n",
      "0.060876623376623376\n",
      "0.06168831168831169\n",
      "0.0625\n",
      "0.0633116883116883\n",
      "0.06412337662337662\n",
      "0.06493506493506493\n",
      "0.06574675324675325\n",
      "0.06655844155844155\n",
      "0.06737012987012987\n",
      "0.06818181818181818\n",
      "0.0689935064935065\n",
      "0.0698051948051948\n",
      "0.07061688311688312\n",
      "0.07142857142857142\n",
      "0.07224025974025974\n",
      "0.07305194805194805\n",
      "0.07386363636363637\n",
      "0.07467532467532467\n",
      "0.07548701298701299\n",
      "0.0762987012987013\n",
      "0.07711038961038962\n",
      "0.07792207792207792\n",
      "0.07873376623376624\n",
      "0.07954545454545454\n",
      "0.08035714285714286\n",
      "0.08116883116883117\n",
      "0.08198051948051949\n",
      "0.08279220779220779\n",
      "0.0836038961038961\n",
      "0.08441558441558442\n",
      "0.08522727272727272\n",
      "0.08603896103896104\n",
      "0.08685064935064934\n",
      "0.08766233766233766\n",
      "0.08847402597402597\n",
      "0.08928571428571429\n",
      "0.09009740259740259\n",
      "0.09090909090909091\n",
      "0.09172077922077922\n",
      "0.09253246753246754\n",
      "0.09334415584415584\n",
      "0.09415584415584416\n",
      "0.09496753246753246\n",
      "0.09577922077922078\n",
      "0.09659090909090909\n",
      "0.09740259740259741\n",
      "0.09821428571428571\n",
      "0.09902597402597403\n",
      "0.09983766233766234\n",
      "0.10064935064935066\n",
      "0.10146103896103896\n",
      "0.10227272727272728\n",
      "0.10308441558441558\n",
      "0.1038961038961039\n",
      "0.10470779220779221\n",
      "0.10551948051948051\n",
      "0.10633116883116883\n",
      "0.10714285714285714\n",
      "0.10795454545454546\n",
      "0.10876623376623376\n",
      "0.10957792207792208\n",
      "0.11038961038961038\n",
      "0.1112012987012987\n",
      "0.11201298701298701\n",
      "0.11282467532467533\n",
      "0.11363636363636363\n",
      "0.11444805194805195\n",
      "0.11525974025974026\n",
      "0.11607142857142858\n",
      "0.11688311688311688\n",
      "0.1176948051948052\n",
      "0.1185064935064935\n",
      "0.11931818181818182\n",
      "0.12012987012987013\n",
      "0.12094155844155845\n",
      "0.12175324675324675\n",
      "0.12256493506493507\n",
      "0.12337662337662338\n",
      "0.1241883116883117\n",
      "0.125\n",
      "0.12581168831168832\n",
      "0.1266233766233766\n",
      "0.12743506493506493\n",
      "0.12824675324675325\n",
      "0.12905844155844157\n",
      "0.12987012987012986\n",
      "0.13068181818181818\n",
      "0.1314935064935065\n",
      "0.13230519480519481\n",
      "0.1331168831168831\n",
      "0.13392857142857142\n",
      "0.13474025974025974\n",
      "0.13555194805194806\n",
      "0.13636363636363635\n",
      "0.13717532467532467\n",
      "0.137987012987013\n",
      "0.1387987012987013\n",
      "0.1396103896103896\n",
      "0.14042207792207792\n",
      "0.14123376623376624\n",
      "0.14204545454545456\n",
      "0.14285714285714285\n",
      "0.14366883116883117\n",
      "0.1444805194805195\n",
      "0.1452922077922078\n",
      "0.1461038961038961\n",
      "0.14691558441558442\n",
      "0.14772727272727273\n",
      "0.14853896103896103\n",
      "0.14935064935064934\n",
      "0.15016233766233766\n",
      "0.15097402597402598\n",
      "0.15178571428571427\n",
      "0.1525974025974026\n",
      "0.1534090909090909\n",
      "0.15422077922077923\n",
      "0.15503246753246752\n",
      "0.15584415584415584\n",
      "0.15665584415584416\n",
      "0.15746753246753248\n",
      "0.15827922077922077\n",
      "0.1590909090909091\n",
      "0.1599025974025974\n",
      "0.16071428571428573\n",
      "0.16152597402597402\n",
      "0.16233766233766234\n",
      "0.16314935064935066\n",
      "0.16396103896103897\n",
      "0.16477272727272727\n",
      "0.16558441558441558\n",
      "0.1663961038961039\n",
      "0.1672077922077922\n",
      "0.1680194805194805\n",
      "0.16883116883116883\n",
      "0.16964285714285715\n",
      "0.17045454545454544\n",
      "0.17126623376623376\n",
      "0.17207792207792208\n",
      "0.1728896103896104\n",
      "0.1737012987012987\n",
      "0.174512987012987\n",
      "0.17532467532467533\n",
      "0.17613636363636365\n",
      "0.17694805194805194\n",
      "0.17775974025974026\n",
      "0.17857142857142858\n",
      "0.1793831168831169\n",
      "0.18019480519480519\n",
      "0.1810064935064935\n",
      "0.18181818181818182\n",
      "0.18262987012987014\n",
      "0.18344155844155843\n",
      "0.18425324675324675\n",
      "0.18506493506493507\n",
      "0.1858766233766234\n",
      "0.18668831168831168\n",
      "0.1875\n",
      "0.18831168831168832\n",
      "0.1891233766233766\n",
      "0.18993506493506493\n",
      "0.19074675324675325\n",
      "0.19155844155844157\n",
      "0.19237012987012986\n",
      "0.19318181818181818\n",
      "0.1939935064935065\n",
      "0.19480519480519481\n",
      "0.1956168831168831\n",
      "0.19642857142857142\n",
      "0.19724025974025974\n",
      "0.19805194805194806\n",
      "0.19886363636363635\n",
      "0.19967532467532467\n",
      "0.200487012987013\n",
      "0.2012987012987013\n",
      "0.2021103896103896\n",
      "0.20292207792207792\n",
      "0.20373376623376624\n",
      "0.20454545454545456\n",
      "0.20535714285714285\n",
      "0.20616883116883117\n",
      "0.2069805194805195\n",
      "0.2077922077922078\n",
      "0.2086038961038961\n",
      "0.20941558441558442\n",
      "0.21022727272727273\n",
      "0.21103896103896103\n",
      "0.21185064935064934\n",
      "0.21266233766233766\n",
      "0.21347402597402598\n",
      "0.21428571428571427\n",
      "0.2150974025974026\n",
      "0.2159090909090909\n",
      "0.21672077922077923\n",
      "0.21753246753246752\n",
      "0.21834415584415584\n",
      "0.21915584415584416\n",
      "0.21996753246753248\n",
      "0.22077922077922077\n",
      "0.2215909090909091\n",
      "0.2224025974025974\n",
      "0.22321428571428573\n",
      "0.22402597402597402\n",
      "0.22483766233766234\n",
      "0.22564935064935066\n",
      "0.22646103896103897\n",
      "0.22727272727272727\n",
      "0.22808441558441558\n",
      "0.2288961038961039\n",
      "0.2297077922077922\n",
      "0.2305194805194805\n",
      "0.23133116883116883\n",
      "0.23214285714285715\n",
      "0.23295454545454544\n",
      "0.23376623376623376\n",
      "0.23457792207792208\n",
      "0.2353896103896104\n",
      "0.2362012987012987\n",
      "0.237012987012987\n",
      "0.23782467532467533\n",
      "0.23863636363636365\n",
      "0.23944805194805194\n",
      "0.24025974025974026\n",
      "0.24107142857142858\n",
      "0.2418831168831169\n",
      "0.24269480519480519\n",
      "0.2435064935064935\n",
      "0.24431818181818182\n",
      "0.24512987012987014\n",
      "0.24594155844155843\n",
      "0.24675324675324675\n",
      "0.24756493506493507\n",
      "0.2483766233766234\n",
      "0.24918831168831168\n",
      "0.25\n",
      "0.2508116883116883\n",
      "0.25162337662337664\n",
      "0.25243506493506496\n",
      "0.2532467532467532\n",
      "0.25405844155844154\n",
      "0.25487012987012986\n",
      "0.2556818181818182\n",
      "0.2564935064935065\n",
      "0.2573051948051948\n",
      "0.25811688311688313\n",
      "0.25892857142857145\n",
      "0.2597402597402597\n",
      "0.26055194805194803\n",
      "0.26136363636363635\n",
      "0.2621753246753247\n",
      "0.262987012987013\n",
      "0.2637987012987013\n",
      "0.26461038961038963\n",
      "0.26542207792207795\n",
      "0.2662337662337662\n",
      "0.26704545454545453\n",
      "0.26785714285714285\n",
      "0.26866883116883117\n",
      "0.2694805194805195\n",
      "0.2702922077922078\n",
      "0.2711038961038961\n",
      "0.2719155844155844\n",
      "0.2727272727272727\n",
      "0.273538961038961\n",
      "0.27435064935064934\n",
      "0.27516233766233766\n",
      "0.275974025974026\n",
      "0.2767857142857143\n",
      "0.2775974025974026\n",
      "0.2784090909090909\n",
      "0.2792207792207792\n",
      "0.2800324675324675\n",
      "0.28084415584415584\n",
      "0.28165584415584416\n",
      "0.2824675324675325\n",
      "0.2832792207792208\n",
      "0.2840909090909091\n",
      "0.2849025974025974\n",
      "0.2857142857142857\n",
      "0.286525974025974\n",
      "0.28733766233766234\n",
      "0.28814935064935066\n",
      "0.288961038961039\n",
      "0.2897727272727273\n",
      "0.2905844155844156\n",
      "0.2913961038961039\n",
      "0.2922077922077922\n",
      "0.2930194805194805\n",
      "0.29383116883116883\n",
      "0.29464285714285715\n",
      "0.29545454545454547\n",
      "0.2962662337662338\n",
      "0.29707792207792205\n",
      "0.29788961038961037\n",
      "0.2987012987012987\n",
      "0.299512987012987\n",
      "0.3003246753246753\n",
      "0.30113636363636365\n",
      "0.30194805194805197\n",
      "0.3027597402597403\n",
      "0.30357142857142855\n",
      "0.30438311688311687\n",
      "0.3051948051948052\n",
      "0.3060064935064935\n",
      "0.3068181818181818\n",
      "0.30762987012987014\n",
      "0.30844155844155846\n",
      "0.3092532467532468\n",
      "0.31006493506493504\n",
      "0.31087662337662336\n",
      "0.3116883116883117\n",
      "0.3125\n",
      "0.3133116883116883\n",
      "0.31412337662337664\n",
      "0.31493506493506496\n",
      "0.3157467532467532\n",
      "0.31655844155844154\n",
      "0.31737012987012986\n",
      "0.3181818181818182\n",
      "0.3189935064935065\n",
      "0.3198051948051948\n",
      "0.32061688311688313\n",
      "0.32142857142857145\n",
      "0.3222402597402597\n",
      "0.32305194805194803\n",
      "0.32386363636363635\n",
      "0.3246753246753247\n",
      "0.325487012987013\n",
      "0.3262987012987013\n",
      "0.32711038961038963\n",
      "0.32792207792207795\n",
      "0.3287337662337662\n",
      "0.32954545454545453\n",
      "0.33035714285714285\n",
      "0.33116883116883117\n",
      "0.3319805194805195\n",
      "0.3327922077922078\n",
      "0.3336038961038961\n",
      "0.3344155844155844\n",
      "0.3352272727272727\n",
      "0.336038961038961\n",
      "0.33685064935064934\n",
      "0.33766233766233766\n",
      "0.338474025974026\n",
      "0.3392857142857143\n",
      "0.3400974025974026\n",
      "0.3409090909090909\n",
      "0.3417207792207792\n",
      "0.3425324675324675\n",
      "0.34334415584415584\n",
      "0.34415584415584416\n",
      "0.3449675324675325\n",
      "0.3457792207792208\n",
      "0.3465909090909091\n",
      "0.3474025974025974\n",
      "0.3482142857142857\n",
      "0.349025974025974\n",
      "0.34983766233766234\n",
      "0.35064935064935066\n",
      "0.351461038961039\n",
      "0.3522727272727273\n",
      "0.3530844155844156\n",
      "0.3538961038961039\n",
      "0.3547077922077922\n",
      "0.3555194805194805\n",
      "0.35633116883116883\n",
      "0.35714285714285715\n",
      "0.35795454545454547\n",
      "0.3587662337662338\n",
      "0.35957792207792205\n",
      "0.36038961038961037\n",
      "0.3612012987012987\n",
      "0.362012987012987\n",
      "0.3628246753246753\n",
      "0.36363636363636365\n",
      "0.36444805194805197\n",
      "0.3652597402597403\n",
      "0.36607142857142855\n",
      "0.36688311688311687\n",
      "0.3676948051948052\n",
      "0.3685064935064935\n",
      "0.3693181818181818\n",
      "0.37012987012987014\n",
      "0.37094155844155846\n",
      "0.3717532467532468\n",
      "0.37256493506493504\n",
      "0.37337662337662336\n",
      "0.3741883116883117\n",
      "0.375\n",
      "0.3758116883116883\n",
      "0.37662337662337664\n",
      "0.37743506493506496\n",
      "0.3782467532467532\n",
      "0.37905844155844154\n",
      "0.37987012987012986\n",
      "0.3806818181818182\n",
      "0.3814935064935065\n",
      "0.3823051948051948\n",
      "0.38311688311688313\n",
      "0.38392857142857145\n",
      "0.3847402597402597\n",
      "0.38555194805194803\n",
      "0.38636363636363635\n",
      "0.3871753246753247\n",
      "0.387987012987013\n",
      "0.3887987012987013\n",
      "0.38961038961038963\n",
      "0.39042207792207795\n",
      "0.3912337662337662\n",
      "0.39204545454545453\n",
      "0.39285714285714285\n",
      "0.39366883116883117\n",
      "0.3944805194805195\n",
      "0.3952922077922078\n",
      "0.3961038961038961\n",
      "0.3969155844155844\n",
      "0.3977272727272727\n",
      "0.398538961038961\n",
      "0.39935064935064934\n",
      "0.40016233766233766\n",
      "0.400974025974026\n",
      "0.4017857142857143\n",
      "0.4025974025974026\n",
      "0.4034090909090909\n",
      "0.4042207792207792\n",
      "0.4050324675324675\n",
      "0.40584415584415584\n",
      "0.40665584415584416\n",
      "0.4074675324675325\n",
      "0.4082792207792208\n",
      "0.4090909090909091\n",
      "0.4099025974025974\n",
      "0.4107142857142857\n",
      "0.411525974025974\n",
      "0.41233766233766234\n",
      "0.41314935064935066\n",
      "0.413961038961039\n",
      "0.4147727272727273\n",
      "0.4155844155844156\n",
      "0.4163961038961039\n",
      "0.4172077922077922\n",
      "0.4180194805194805\n",
      "0.41883116883116883\n",
      "0.41964285714285715\n",
      "0.42045454545454547\n",
      "0.4212662337662338\n",
      "0.42207792207792205\n",
      "0.42288961038961037\n",
      "0.4237012987012987\n",
      "0.424512987012987\n",
      "0.4253246753246753\n",
      "0.42613636363636365\n",
      "0.42694805194805197\n",
      "0.4277597402597403\n",
      "0.42857142857142855\n",
      "0.42938311688311687\n",
      "0.4301948051948052\n",
      "0.4310064935064935\n",
      "0.4318181818181818\n",
      "0.43262987012987014\n",
      "0.43344155844155846\n",
      "0.4342532467532468\n",
      "0.43506493506493504\n",
      "0.43587662337662336\n",
      "0.4366883116883117\n",
      "0.4375\n",
      "0.4383116883116883\n",
      "0.43912337662337664\n",
      "0.43993506493506496\n",
      "0.4407467532467532\n",
      "0.44155844155844154\n",
      "0.44237012987012986\n",
      "0.4431818181818182\n",
      "0.4439935064935065\n",
      "0.4448051948051948\n",
      "0.44561688311688313\n",
      "0.44642857142857145\n",
      "0.4472402597402597\n",
      "0.44805194805194803\n",
      "0.44886363636363635\n",
      "0.4496753246753247\n",
      "0.450487012987013\n",
      "0.4512987012987013\n",
      "0.45211038961038963\n",
      "0.45292207792207795\n",
      "0.4537337662337662\n",
      "0.45454545454545453\n",
      "0.45535714285714285\n",
      "0.45616883116883117\n",
      "0.4569805194805195\n",
      "0.4577922077922078\n",
      "0.4586038961038961\n",
      "0.4594155844155844\n",
      "0.4602272727272727\n",
      "0.461038961038961\n",
      "0.46185064935064934\n",
      "0.46266233766233766\n",
      "0.463474025974026\n",
      "0.4642857142857143\n",
      "0.4650974025974026\n",
      "0.4659090909090909\n",
      "0.4667207792207792\n",
      "0.4675324675324675\n",
      "0.46834415584415584\n",
      "0.46915584415584416\n",
      "0.4699675324675325\n",
      "0.4707792207792208\n",
      "0.4715909090909091\n",
      "0.4724025974025974\n",
      "0.4732142857142857\n",
      "0.474025974025974\n",
      "0.47483766233766234\n",
      "0.47564935064935066\n",
      "0.476461038961039\n",
      "0.4772727272727273\n",
      "0.4780844155844156\n",
      "0.4788961038961039\n",
      "0.4797077922077922\n",
      "0.4805194805194805\n",
      "0.48133116883116883\n",
      "0.48214285714285715\n",
      "0.48295454545454547\n",
      "0.4837662337662338\n",
      "0.48457792207792205\n",
      "0.48538961038961037\n",
      "0.4862012987012987\n",
      "0.487012987012987\n",
      "0.4878246753246753\n",
      "0.48863636363636365\n",
      "0.48944805194805197\n",
      "0.4902597402597403\n",
      "0.49107142857142855\n",
      "0.49188311688311687\n",
      "0.4926948051948052\n",
      "0.4935064935064935\n",
      "0.4943181818181818\n",
      "0.49512987012987014\n",
      "0.49594155844155846\n",
      "0.4967532467532468\n",
      "0.49756493506493504\n",
      "0.49837662337662336\n",
      "0.4991883116883117\n",
      "0.5\n",
      "0.5008116883116883\n",
      "0.5016233766233766\n",
      "0.502435064935065\n",
      "0.5032467532467533\n",
      "0.5040584415584416\n",
      "0.5048701298701299\n",
      "0.5056818181818182\n",
      "0.5064935064935064\n",
      "0.5073051948051948\n",
      "0.5081168831168831\n",
      "0.5089285714285714\n",
      "0.5097402597402597\n",
      "0.510551948051948\n",
      "0.5113636363636364\n",
      "0.5121753246753247\n",
      "0.512987012987013\n",
      "0.5137987012987013\n",
      "0.5146103896103896\n",
      "0.515422077922078\n",
      "0.5162337662337663\n",
      "0.5170454545454546\n",
      "0.5178571428571429\n",
      "0.5186688311688312\n",
      "0.5194805194805194\n",
      "0.5202922077922078\n",
      "0.5211038961038961\n",
      "0.5219155844155844\n",
      "0.5227272727272727\n",
      "0.523538961038961\n",
      "0.5243506493506493\n",
      "0.5251623376623377\n",
      "0.525974025974026\n",
      "0.5267857142857143\n",
      "0.5275974025974026\n",
      "0.5284090909090909\n",
      "0.5292207792207793\n",
      "0.5300324675324676\n",
      "0.5308441558441559\n",
      "0.5316558441558441\n",
      "0.5324675324675324\n",
      "0.5332792207792207\n",
      "0.5340909090909091\n",
      "0.5349025974025974\n",
      "0.5357142857142857\n",
      "0.536525974025974\n",
      "0.5373376623376623\n",
      "0.5381493506493507\n",
      "0.538961038961039\n",
      "0.5397727272727273\n",
      "0.5405844155844156\n",
      "0.5413961038961039\n",
      "0.5422077922077922\n",
      "0.5430194805194806\n",
      "0.5438311688311688\n",
      "0.5446428571428571\n",
      "0.5454545454545454\n",
      "0.5462662337662337\n",
      "0.547077922077922\n",
      "0.5478896103896104\n",
      "0.5487012987012987\n",
      "0.549512987012987\n",
      "0.5503246753246753\n",
      "0.5511363636363636\n",
      "0.551948051948052\n",
      "0.5527597402597403\n",
      "0.5535714285714286\n",
      "0.5543831168831169\n",
      "0.5551948051948052\n",
      "0.5560064935064936\n",
      "0.5568181818181818\n",
      "0.5576298701298701\n",
      "0.5584415584415584\n",
      "0.5592532467532467\n",
      "0.560064935064935\n",
      "0.5608766233766234\n",
      "0.5616883116883117\n",
      "0.5625\n",
      "0.5633116883116883\n",
      "0.5641233766233766\n",
      "0.564935064935065\n",
      "0.5657467532467533\n",
      "0.5665584415584416\n",
      "0.5673701298701299\n",
      "0.5681818181818182\n",
      "0.5689935064935064\n",
      "0.5698051948051948\n",
      "0.5706168831168831\n",
      "0.5714285714285714\n",
      "0.5722402597402597\n",
      "0.573051948051948\n",
      "0.5738636363636364\n",
      "0.5746753246753247\n",
      "0.575487012987013\n",
      "0.5762987012987013\n",
      "0.5771103896103896\n",
      "0.577922077922078\n",
      "0.5787337662337663\n",
      "0.5795454545454546\n",
      "0.5803571428571429\n",
      "0.5811688311688312\n",
      "0.5819805194805194\n",
      "0.5827922077922078\n",
      "0.5836038961038961\n",
      "0.5844155844155844\n",
      "0.5852272727272727\n",
      "0.586038961038961\n",
      "0.5868506493506493\n",
      "0.5876623376623377\n",
      "0.588474025974026\n",
      "0.5892857142857143\n",
      "0.5900974025974026\n",
      "0.5909090909090909\n",
      "0.5917207792207793\n",
      "0.5925324675324676\n",
      "0.5933441558441559\n",
      "0.5941558441558441\n",
      "0.5949675324675324\n",
      "0.5957792207792207\n",
      "0.5965909090909091\n",
      "0.5974025974025974\n",
      "0.5982142857142857\n",
      "0.599025974025974\n",
      "0.5998376623376623\n",
      "0.6006493506493507\n",
      "0.601461038961039\n",
      "0.6022727272727273\n",
      "0.6030844155844156\n",
      "0.6038961038961039\n",
      "0.6047077922077922\n",
      "0.6055194805194806\n",
      "0.6063311688311688\n",
      "0.6071428571428571\n",
      "0.6079545454545454\n",
      "0.6087662337662337\n",
      "0.609577922077922\n",
      "0.6103896103896104\n",
      "0.6112012987012987\n",
      "0.612012987012987\n",
      "0.6128246753246753\n",
      "0.6136363636363636\n",
      "0.614448051948052\n",
      "0.6152597402597403\n",
      "0.6160714285714286\n",
      "0.6168831168831169\n",
      "0.6176948051948052\n",
      "0.6185064935064936\n",
      "0.6193181818181818\n",
      "0.6201298701298701\n",
      "0.6209415584415584\n",
      "0.6217532467532467\n",
      "0.622564935064935\n",
      "0.6233766233766234\n",
      "0.6241883116883117\n",
      "0.625\n",
      "0.6258116883116883\n",
      "0.6266233766233766\n",
      "0.627435064935065\n",
      "0.6282467532467533\n",
      "0.6290584415584416\n",
      "0.6298701298701299\n",
      "0.6306818181818182\n",
      "0.6314935064935064\n",
      "0.6323051948051948\n",
      "0.6331168831168831\n",
      "0.6339285714285714\n",
      "0.6347402597402597\n",
      "0.635551948051948\n",
      "0.6363636363636364\n",
      "0.6371753246753247\n",
      "0.637987012987013\n",
      "0.6387987012987013\n",
      "0.6396103896103896\n",
      "0.640422077922078\n",
      "0.6412337662337663\n",
      "0.6420454545454546\n",
      "0.6428571428571429\n",
      "0.6436688311688312\n",
      "0.6444805194805194\n",
      "0.6452922077922078\n",
      "0.6461038961038961\n",
      "0.6469155844155844\n",
      "0.6477272727272727\n",
      "0.648538961038961\n",
      "0.6493506493506493\n",
      "0.6501623376623377\n",
      "0.650974025974026\n",
      "0.6517857142857143\n",
      "0.6525974025974026\n",
      "0.6534090909090909\n",
      "0.6542207792207793\n",
      "0.6550324675324676\n",
      "0.6558441558441559\n",
      "0.6566558441558441\n",
      "0.6574675324675324\n",
      "0.6582792207792207\n",
      "0.6590909090909091\n",
      "0.6599025974025974\n",
      "0.6607142857142857\n",
      "0.661525974025974\n",
      "0.6623376623376623\n",
      "0.6631493506493507\n",
      "0.663961038961039\n",
      "0.6647727272727273\n",
      "0.6655844155844156\n",
      "0.6663961038961039\n",
      "0.6672077922077922\n",
      "0.6680194805194806\n",
      "0.6688311688311688\n",
      "0.6696428571428571\n",
      "0.6704545454545454\n",
      "0.6712662337662337\n",
      "0.672077922077922\n",
      "0.6728896103896104\n",
      "0.6737012987012987\n",
      "0.674512987012987\n",
      "0.6753246753246753\n",
      "0.6761363636363636\n",
      "0.676948051948052\n",
      "0.6777597402597403\n",
      "0.6785714285714286\n",
      "0.6793831168831169\n",
      "0.6801948051948052\n",
      "0.6810064935064936\n",
      "0.6818181818181818\n",
      "0.6826298701298701\n",
      "0.6834415584415584\n",
      "0.6842532467532467\n",
      "0.685064935064935\n",
      "0.6858766233766234\n",
      "0.6866883116883117\n",
      "0.6875\n",
      "0.6883116883116883\n",
      "0.6891233766233766\n",
      "0.689935064935065\n",
      "0.6907467532467533\n",
      "0.6915584415584416\n",
      "0.6923701298701299\n",
      "0.6931818181818182\n",
      "0.6939935064935064\n",
      "0.6948051948051948\n",
      "0.6956168831168831\n",
      "0.6964285714285714\n",
      "0.6972402597402597\n",
      "0.698051948051948\n",
      "0.6988636363636364\n",
      "0.6996753246753247\n",
      "0.700487012987013\n",
      "0.7012987012987013\n",
      "0.7021103896103896\n",
      "0.702922077922078\n",
      "0.7037337662337663\n",
      "0.7045454545454546\n",
      "0.7053571428571429\n",
      "0.7061688311688312\n",
      "0.7069805194805194\n",
      "0.7077922077922078\n",
      "0.7086038961038961\n",
      "0.7094155844155844\n",
      "0.7102272727272727\n",
      "0.711038961038961\n",
      "0.7118506493506493\n",
      "0.7126623376623377\n",
      "0.713474025974026\n",
      "0.7142857142857143\n",
      "0.7150974025974026\n",
      "0.7159090909090909\n",
      "0.7167207792207793\n",
      "0.7175324675324676\n",
      "0.7183441558441559\n",
      "0.7191558441558441\n",
      "0.7199675324675324\n",
      "0.7207792207792207\n",
      "0.7215909090909091\n",
      "0.7224025974025974\n",
      "0.7232142857142857\n",
      "0.724025974025974\n",
      "0.7248376623376623\n",
      "0.7256493506493507\n",
      "0.726461038961039\n",
      "0.7272727272727273\n",
      "0.7280844155844156\n",
      "0.7288961038961039\n",
      "0.7297077922077922\n",
      "0.7305194805194806\n",
      "0.7313311688311688\n",
      "0.7321428571428571\n",
      "0.7329545454545454\n",
      "0.7337662337662337\n",
      "0.734577922077922\n",
      "0.7353896103896104\n",
      "0.7362012987012987\n",
      "0.737012987012987\n",
      "0.7378246753246753\n",
      "0.7386363636363636\n",
      "0.739448051948052\n",
      "0.7402597402597403\n",
      "0.7410714285714286\n",
      "0.7418831168831169\n",
      "0.7426948051948052\n",
      "0.7435064935064936\n",
      "0.7443181818181818\n",
      "0.7451298701298701\n",
      "0.7459415584415584\n",
      "0.7467532467532467\n",
      "0.747564935064935\n",
      "0.7483766233766234\n",
      "0.7491883116883117\n",
      "0.75\n",
      "0.7508116883116883\n",
      "0.7516233766233766\n",
      "0.752435064935065\n",
      "0.7532467532467533\n",
      "0.7540584415584416\n",
      "0.7548701298701299\n",
      "0.7556818181818182\n",
      "0.7564935064935064\n",
      "0.7573051948051948\n",
      "0.7581168831168831\n",
      "0.7589285714285714\n",
      "0.7597402597402597\n",
      "0.760551948051948\n",
      "0.7613636363636364\n",
      "0.7621753246753247\n",
      "0.762987012987013\n",
      "0.7637987012987013\n",
      "0.7646103896103896\n",
      "0.765422077922078\n",
      "0.7662337662337663\n",
      "0.7670454545454546\n",
      "0.7678571428571429\n",
      "0.7686688311688312\n",
      "0.7694805194805194\n",
      "0.7702922077922078\n",
      "0.7711038961038961\n",
      "0.7719155844155844\n",
      "0.7727272727272727\n",
      "0.773538961038961\n",
      "0.7743506493506493\n",
      "0.7751623376623377\n",
      "0.775974025974026\n",
      "0.7767857142857143\n",
      "0.7775974025974026\n",
      "0.7784090909090909\n",
      "0.7792207792207793\n",
      "0.7800324675324676\n",
      "0.7808441558441559\n",
      "0.7816558441558441\n",
      "0.7824675324675324\n",
      "0.7832792207792207\n",
      "0.7840909090909091\n",
      "0.7849025974025974\n",
      "0.7857142857142857\n",
      "0.786525974025974\n",
      "0.7873376623376623\n",
      "0.7881493506493507\n",
      "0.788961038961039\n",
      "0.7897727272727273\n",
      "0.7905844155844156\n",
      "0.7913961038961039\n",
      "0.7922077922077922\n",
      "0.7930194805194806\n",
      "0.7938311688311688\n",
      "0.7946428571428571\n",
      "0.7954545454545454\n",
      "0.7962662337662337\n",
      "0.797077922077922\n",
      "0.7978896103896104\n",
      "0.7987012987012987\n",
      "0.799512987012987\n",
      "0.8003246753246753\n",
      "0.8011363636363636\n",
      "0.801948051948052\n",
      "0.8027597402597403\n",
      "0.8035714285714286\n",
      "0.8043831168831169\n",
      "0.8051948051948052\n",
      "0.8060064935064936\n",
      "0.8068181818181818\n",
      "0.8076298701298701\n",
      "0.8084415584415584\n",
      "0.8092532467532467\n",
      "0.810064935064935\n",
      "0.8108766233766234\n",
      "0.8116883116883117\n",
      "0.8125\n",
      "0.8133116883116883\n",
      "0.8141233766233766\n",
      "0.814935064935065\n",
      "0.8157467532467533\n",
      "0.8165584415584416\n",
      "0.8173701298701299\n",
      "0.8181818181818182\n",
      "0.8189935064935064\n",
      "0.8198051948051948\n",
      "0.8206168831168831\n",
      "0.8214285714285714\n",
      "0.8222402597402597\n",
      "0.823051948051948\n",
      "0.8238636363636364\n",
      "0.8246753246753247\n",
      "0.825487012987013\n",
      "0.8262987012987013\n",
      "0.8271103896103896\n",
      "0.827922077922078\n",
      "0.8287337662337663\n",
      "0.8295454545454546\n",
      "0.8303571428571429\n",
      "0.8311688311688312\n",
      "0.8319805194805194\n",
      "0.8327922077922078\n",
      "0.8336038961038961\n",
      "0.8344155844155844\n",
      "0.8352272727272727\n",
      "0.836038961038961\n",
      "0.8368506493506493\n",
      "0.8376623376623377\n",
      "0.838474025974026\n",
      "0.8392857142857143\n",
      "0.8400974025974026\n",
      "0.8409090909090909\n",
      "0.8417207792207793\n",
      "0.8425324675324676\n",
      "0.8433441558441559\n",
      "0.8441558441558441\n",
      "0.8449675324675324\n",
      "0.8457792207792207\n",
      "0.8465909090909091\n",
      "0.8474025974025974\n",
      "0.8482142857142857\n",
      "0.849025974025974\n",
      "0.8498376623376623\n",
      "0.8506493506493507\n",
      "0.851461038961039\n",
      "0.8522727272727273\n",
      "0.8530844155844156\n",
      "0.8538961038961039\n",
      "0.8547077922077922\n",
      "0.8555194805194806\n",
      "0.8563311688311688\n",
      "0.8571428571428571\n",
      "0.8579545454545454\n",
      "0.8587662337662337\n",
      "0.859577922077922\n",
      "0.8603896103896104\n",
      "0.8612012987012987\n",
      "0.862012987012987\n",
      "0.8628246753246753\n",
      "0.8636363636363636\n",
      "0.864448051948052\n",
      "0.8652597402597403\n",
      "0.8660714285714286\n",
      "0.8668831168831169\n",
      "0.8676948051948052\n",
      "0.8685064935064936\n",
      "0.8693181818181818\n",
      "0.8701298701298701\n",
      "0.8709415584415584\n",
      "0.8717532467532467\n",
      "0.872564935064935\n",
      "0.8733766233766234\n",
      "0.8741883116883117\n",
      "0.875\n",
      "0.8758116883116883\n",
      "0.8766233766233766\n",
      "0.877435064935065\n",
      "0.8782467532467533\n",
      "0.8790584415584416\n",
      "0.8798701298701299\n",
      "0.8806818181818182\n",
      "0.8814935064935064\n",
      "0.8823051948051948\n",
      "0.8831168831168831\n",
      "0.8839285714285714\n",
      "0.8847402597402597\n",
      "0.885551948051948\n",
      "0.8863636363636364\n",
      "0.8871753246753247\n",
      "0.887987012987013\n",
      "0.8887987012987013\n",
      "0.8896103896103896\n",
      "0.890422077922078\n",
      "0.8912337662337663\n",
      "0.8920454545454546\n",
      "0.8928571428571429\n",
      "0.8936688311688312\n",
      "0.8944805194805194\n",
      "0.8952922077922078\n",
      "0.8961038961038961\n",
      "0.8969155844155844\n",
      "0.8977272727272727\n",
      "0.898538961038961\n",
      "0.8993506493506493\n",
      "0.9001623376623377\n",
      "0.900974025974026\n",
      "0.9017857142857143\n",
      "0.9025974025974026\n",
      "0.9034090909090909\n",
      "0.9042207792207793\n",
      "0.9050324675324676\n",
      "0.9058441558441559\n",
      "0.9066558441558441\n",
      "0.9074675324675324\n",
      "0.9082792207792207\n",
      "0.9090909090909091\n",
      "0.9099025974025974\n",
      "0.9107142857142857\n",
      "0.911525974025974\n",
      "0.9123376623376623\n",
      "0.9131493506493507\n",
      "0.913961038961039\n",
      "0.9147727272727273\n",
      "0.9155844155844156\n",
      "0.9163961038961039\n",
      "0.9172077922077922\n",
      "0.9180194805194806\n",
      "0.9188311688311688\n",
      "0.9196428571428571\n",
      "0.9204545454545454\n",
      "0.9212662337662337\n",
      "0.922077922077922\n",
      "0.9228896103896104\n",
      "0.9237012987012987\n",
      "0.924512987012987\n",
      "0.9253246753246753\n",
      "0.9261363636363636\n",
      "0.926948051948052\n",
      "0.9277597402597403\n",
      "0.9285714285714286\n",
      "0.9293831168831169\n",
      "0.9301948051948052\n",
      "0.9310064935064936\n",
      "0.9318181818181818\n",
      "0.9326298701298701\n",
      "0.9334415584415584\n",
      "0.9342532467532467\n",
      "0.935064935064935\n",
      "0.9358766233766234\n",
      "0.9366883116883117\n",
      "0.9375\n",
      "0.9383116883116883\n",
      "0.9391233766233766\n",
      "0.939935064935065\n",
      "0.9407467532467533\n",
      "0.9415584415584416\n",
      "0.9423701298701299\n",
      "0.9431818181818182\n",
      "0.9439935064935064\n",
      "0.9448051948051948\n",
      "0.9456168831168831\n",
      "0.9464285714285714\n",
      "0.9472402597402597\n",
      "0.948051948051948\n",
      "0.9488636363636364\n",
      "0.9496753246753247\n",
      "0.950487012987013\n",
      "0.9512987012987013\n",
      "0.9521103896103896\n",
      "0.952922077922078\n",
      "0.9537337662337663\n",
      "0.9545454545454546\n",
      "0.9553571428571429\n",
      "0.9561688311688312\n",
      "0.9569805194805194\n",
      "0.9577922077922078\n",
      "0.9586038961038961\n",
      "0.9594155844155844\n",
      "0.9602272727272727\n",
      "0.961038961038961\n",
      "0.9618506493506493\n",
      "0.9626623376623377\n",
      "0.963474025974026\n",
      "0.9642857142857143\n",
      "0.9650974025974026\n",
      "0.9659090909090909\n",
      "0.9667207792207793\n",
      "0.9675324675324676\n",
      "0.9683441558441559\n",
      "0.9691558441558441\n",
      "0.9699675324675324\n",
      "0.9707792207792207\n",
      "0.9715909090909091\n",
      "0.9724025974025974\n",
      "0.9732142857142857\n",
      "0.974025974025974\n",
      "0.9748376623376623\n",
      "0.9756493506493507\n",
      "0.976461038961039\n",
      "0.9772727272727273\n",
      "0.9780844155844156\n",
      "0.9788961038961039\n",
      "0.9797077922077922\n",
      "0.9805194805194806\n",
      "0.9813311688311688\n",
      "0.9821428571428571\n",
      "0.9829545454545454\n",
      "0.9837662337662337\n",
      "0.984577922077922\n",
      "0.9853896103896104\n",
      "0.9862012987012987\n",
      "0.987012987012987\n",
      "0.9878246753246753\n",
      "0.9886363636363636\n",
      "0.989448051948052\n",
      "0.9902597402597403\n",
      "0.9910714285714286\n",
      "0.9918831168831169\n",
      "0.9926948051948052\n",
      "0.9935064935064936\n",
      "0.9943181818181818\n",
      "0.9951298701298701\n",
      "0.9959415584415584\n",
      "0.9967532467532467\n",
      "0.997564935064935\n",
      "0.9983766233766234\n",
      "0.9991883116883117\n",
      "1.0\n"
     ]
    }
   ],
   "source": [
    "k_list = []\n",
    "\n",
    "station_name_dict = {}\n",
    "\n",
    "for k, v in orderID_group_dict.items():\n",
    "\n",
    "   # put a print statement to know something is running\n",
    "    \n",
    "    k_list.append(k)\n",
    "    \n",
    "    count = len(k_list)\n",
    "    \n",
    "    print(count/1232)\n",
    "\n",
    "    subset = df_dist_unpv.OBJECTID == k\n",
    "    \n",
    "    closest_staton_name = df_dist_unpv.loc[(df_dist_unpv['OBJECTID']==k)].sort_values(by = 'value').head(1).name.values[0]\n",
    "\n",
    "    station_name_dict[k] = closest_staton_name"
   ]
  },
  {
   "cell_type": "markdown",
   "metadata": {
    "ExecuteTime": {
     "end_time": "2021-05-06T01:33:19.691101Z",
     "start_time": "2021-05-06T01:33:19.688919Z"
    }
   },
   "source": [
    "# Looking between dictionaries"
   ]
  },
  {
   "cell_type": "code",
   "execution_count": 14,
   "metadata": {
    "ExecuteTime": {
     "end_time": "2021-05-11T22:40:36.018224Z",
     "start_time": "2021-05-11T22:40:35.230097Z"
    }
   },
   "outputs": [],
   "source": [
    "master_dict = {}\n",
    "\n",
    "for k,v in station_name_dict.items():\n",
    "\n",
    "    for key in orderID_group_dict[k]:\n",
    "        \n",
    "        master_dict[key] = v"
   ]
  },
  {
   "cell_type": "code",
   "execution_count": 15,
   "metadata": {
    "ExecuteTime": {
     "end_time": "2021-05-11T22:40:38.709350Z",
     "start_time": "2021-05-11T22:40:36.020142Z"
    }
   },
   "outputs": [],
   "source": [
    "\n",
    "master_dict = OrderedDict(sorted(master_dict.items()))"
   ]
  },
  {
   "cell_type": "markdown",
   "metadata": {
    "ExecuteTime": {
     "end_time": "2021-05-06T01:40:28.817161Z",
     "start_time": "2021-05-06T01:40:28.815023Z"
    }
   },
   "source": [
    "# Grand Finale - Making the Closest Weather Station  a Feature"
   ]
  },
  {
   "cell_type": "code",
   "execution_count": 16,
   "metadata": {
    "ExecuteTime": {
     "end_time": "2021-05-11T22:40:38.941837Z",
     "start_time": "2021-05-11T22:40:38.711611Z"
    }
   },
   "outputs": [
    {
     "name": "stderr",
     "output_type": "stream",
     "text": [
      "<ipython-input-16-42a37cf195ac>:1: SettingWithCopyWarning: \n",
      "A value is trying to be set on a copy of a slice from a DataFrame.\n",
      "Try using .loc[row_indexer,col_indexer] = value instead\n",
      "\n",
      "See the caveats in the documentation: https://pandas.pydata.org/pandas-docs/stable/user_guide/indexing.html#returning-a-view-versus-a-copy\n",
      "  wildfires_coordinates_df['NOAA'] = list(master_dict.values())\n"
     ]
    }
   ],
   "source": [
    "wildfires_coordinates_df['NOAA'] = list(master_dict.values())"
   ]
  },
  {
   "cell_type": "markdown",
   "metadata": {
    "ExecuteTime": {
     "end_time": "2021-05-06T01:40:20.025714Z",
     "start_time": "2021-05-06T01:40:20.023562Z"
    }
   },
   "source": [
    "# Converting Julian Dates to Standard Dates"
   ]
  },
  {
   "cell_type": "code",
   "execution_count": 17,
   "metadata": {
    "ExecuteTime": {
     "end_time": "2021-05-11T22:40:39.893968Z",
     "start_time": "2021-05-11T22:40:38.944288Z"
    }
   },
   "outputs": [],
   "source": [
    "df['DISCOVERY_DATE'] = pd.to_datetime(df['DISCOVERY_DATE'] - pd.Timestamp(0).to_julian_date(), unit='D')\n",
    "df['CONT_DATE'] = pd.to_datetime(df['CONT_DATE'] - pd.Timestamp(0).to_julian_date(), unit='D')"
   ]
  },
  {
   "cell_type": "code",
   "execution_count": 18,
   "metadata": {
    "ExecuteTime": {
     "end_time": "2021-05-11T22:41:03.834463Z",
     "start_time": "2021-05-11T22:40:39.896270Z"
    }
   },
   "outputs": [
    {
     "name": "stderr",
     "output_type": "stream",
     "text": [
      "<ipython-input-18-123726ef4b22>:1: SettingWithCopyWarning: \n",
      "A value is trying to be set on a copy of a slice from a DataFrame.\n",
      "Try using .loc[row_indexer,col_indexer] = value instead\n",
      "\n",
      "See the caveats in the documentation: https://pandas.pydata.org/pandas-docs/stable/user_guide/indexing.html#returning-a-view-versus-a-copy\n",
      "  wildfires_coordinates_df['DISCOVERY_DATE'] = df['DISCOVERY_DATE']\n",
      "<ipython-input-18-123726ef4b22>:3: SettingWithCopyWarning: \n",
      "A value is trying to be set on a copy of a slice from a DataFrame.\n",
      "Try using .loc[row_indexer,col_indexer] = value instead\n",
      "\n",
      "See the caveats in the documentation: https://pandas.pydata.org/pandas-docs/stable/user_guide/indexing.html#returning-a-view-versus-a-copy\n",
      "  wildfires_coordinates_df['DURATION'] = df.CONT_DATE - df.DISCOVERY_DATE\n",
      "/Users/jonathansilverman/opt/anaconda3/lib/python3.8/site-packages/pandas/core/series.py:4517: SettingWithCopyWarning: \n",
      "A value is trying to be set on a copy of a slice from a DataFrame\n",
      "\n",
      "See the caveats in the documentation: https://pandas.pydata.org/pandas-docs/stable/user_guide/indexing.html#returning-a-view-versus-a-copy\n",
      "  return super().fillna(\n",
      "<ipython-input-18-123726ef4b22>:8: SettingWithCopyWarning: \n",
      "A value is trying to be set on a copy of a slice from a DataFrame.\n",
      "Try using .loc[row_indexer,col_indexer] = value instead\n",
      "\n",
      "See the caveats in the documentation: https://pandas.pydata.org/pandas-docs/stable/user_guide/indexing.html#returning-a-view-versus-a-copy\n",
      "  wildfires_coordinates_df['DURATION'] = [\n"
     ]
    }
   ],
   "source": [
    "wildfires_coordinates_df['DISCOVERY_DATE'] = df['DISCOVERY_DATE']\n",
    "\n",
    "wildfires_coordinates_df['DURATION'] = df.CONT_DATE - df.DISCOVERY_DATE\n",
    "\n",
    "wildfires_coordinates_df['DURATION'].fillna(\n",
    "    pd.Timedelta(seconds=0), inplace=True)\n",
    "\n",
    "wildfires_coordinates_df['DURATION'] = [\n",
    "    int(str(i)[0:2]) for i in wildfires_coordinates_df.DURATION]"
   ]
  },
  {
   "cell_type": "markdown",
   "metadata": {},
   "source": [
    "# Save the DataFrame "
   ]
  },
  {
   "cell_type": "code",
   "execution_count": 19,
   "metadata": {
    "ExecuteTime": {
     "end_time": "2021-05-11T22:41:25.675765Z",
     "start_time": "2021-05-11T22:41:03.836625Z"
    }
   },
   "outputs": [],
   "source": [
    "wildfires_coordinates_df.to_csv('wildfires_coordinates_df', index=False)"
   ]
  },
  {
   "cell_type": "markdown",
   "metadata": {},
   "source": [
    "----------------------"
   ]
  },
  {
   "cell_type": "markdown",
   "metadata": {
    "ExecuteTime": {
     "end_time": "2021-05-06T00:15:57.645436Z",
     "start_time": "2021-05-06T00:15:57.642028Z"
    }
   },
   "source": [
    "# Adding a Feature of Month"
   ]
  },
  {
   "cell_type": "code",
   "execution_count": 20,
   "metadata": {
    "ExecuteTime": {
     "end_time": "2021-05-11T22:41:27.608835Z",
     "start_time": "2021-05-11T22:41:25.677751Z"
    }
   },
   "outputs": [],
   "source": [
    "wildfires_coordinates_df = pd.read_csv('wildfires_coordinates_df')\n",
    "\n",
    "wildfires_coordinates_df['year'] = pd.DatetimeIndex(\n",
    "    wildfires_coordinates_df.DISCOVERY_DATE).year"
   ]
  },
  {
   "cell_type": "markdown",
   "metadata": {
    "ExecuteTime": {
     "end_time": "2021-05-04T16:53:34.582183Z",
     "start_time": "2021-05-04T16:53:34.579767Z"
    }
   },
   "source": [
    "# EDA about Causes of Wildfire"
   ]
  },
  {
   "cell_type": "code",
   "execution_count": 21,
   "metadata": {
    "ExecuteTime": {
     "end_time": "2021-05-11T22:41:27.837928Z",
     "start_time": "2021-05-11T22:41:27.610911Z"
    },
    "scrolled": true
   },
   "outputs": [
    {
     "data": {
      "text/plain": [
       "Debris Burning       0.228150\n",
       "Miscellaneous        0.172194\n",
       "Arson                0.149673\n",
       "Lightning            0.148085\n",
       "Missing/Undefined    0.088661\n",
       "Equipment Use        0.078498\n",
       "Campfire             0.040489\n",
       "Children             0.032528\n",
       "Smoking              0.028115\n",
       "Railroad             0.017791\n",
       "Powerline            0.007683\n",
       "Fireworks            0.006116\n",
       "Structure            0.002019\n",
       "Name: STAT_CAUSE_DESCR, dtype: float64"
      ]
     },
     "execution_count": 21,
     "metadata": {},
     "output_type": "execute_result"
    }
   ],
   "source": [
    "df.STAT_CAUSE_DESCR.value_counts(normalize = True)"
   ]
  },
  {
   "cell_type": "markdown",
   "metadata": {},
   "source": [
    "## Barplot"
   ]
  },
  {
   "cell_type": "code",
   "execution_count": 22,
   "metadata": {
    "ExecuteTime": {
     "end_time": "2021-05-11T22:41:28.498547Z",
     "start_time": "2021-05-11T22:41:27.840278Z"
    }
   },
   "outputs": [
    {
     "data": {
      "image/png": "[encoded data removed]",
      "text/plain": [
       "<Figure size 432x288 with 1 Axes>"
      ]
     },
     "metadata": {
      "needs_background": "light"
     },
     "output_type": "display_data"
    }
   ],
   "source": [
    "barplot_df = pd.DataFrame({'Causes' :list(df.STAT_CAUSE_DESCR.value_counts(normalize = True).index) , 'Proportion' : list(df.STAT_CAUSE_DESCR.value_counts(normalize = True).values)})\n",
    "\n",
    "\n",
    "\n",
    "barplot_df = barplot_df.sort_values(['Proportion'], ascending=False).reset_index(drop=True)\n",
    "\n",
    "chart = sns.barplot(\n",
    "    x='Causes', \n",
    "    y='Proportion', \n",
    "    data=barplot_df, \n",
    "    estimator=sum, \n",
    "    ci=None, \n",
    " \n",
    "    color='#69b3a2'\n",
    ");\n",
    "\n",
    "\n",
    "chart.set_xticklabels(chart.get_xticklabels(), rotation=45, horizontalalignment='right');\n",
    "plt.title('Causes of Wildfires in the USA from 1992 to 2015');\n"
   ]
  },
  {
   "cell_type": "markdown",
   "metadata": {},
   "source": [
    "# Which  and When"
   ]
  },
  {
   "cell_type": "markdown",
   "metadata": {
    "ExecuteTime": {
     "end_time": "2021-05-04T18:35:28.607028Z",
     "start_time": "2021-05-04T18:35:28.604635Z"
    }
   },
   "source": [
    "## Which State had the most fires and in which year? "
   ]
  },
  {
   "cell_type": "code",
   "execution_count": 23,
   "metadata": {
    "ExecuteTime": {
     "end_time": "2021-05-11T22:41:29.079151Z",
     "start_time": "2021-05-11T22:41:28.507369Z"
    }
   },
   "outputs": [],
   "source": [
    "groups = wildfires_coordinates_df.groupby(['year', 'STATE']).count().OBJECTID\n",
    "\n",
    "unstack_df = groups.unstack()\n",
    "\n",
    "unstack_df.fillna(0, inplace=True)"
   ]
  },
  {
   "cell_type": "code",
   "execution_count": 24,
   "metadata": {
    "ExecuteTime": {
     "end_time": "2021-05-11T22:41:29.092172Z",
     "start_time": "2021-05-11T22:41:29.084989Z"
    }
   },
   "outputs": [
    {
     "name": "stdout",
     "output_type": "stream",
     "text": [
      "The most wildires in a single year was 19453, occurring in TX.\n"
     ]
    }
   ],
   "source": [
    "state_dict = dict(zip(list(unstack_df.columns), [max(\n",
    "    unstack_df[i]) for i in list(unstack_df.columns)]))\n",
    "\n",
    "max_value = max(state_dict.values())\n",
    "\n",
    "max_key = max(state_dict.items(), key=operator.itemgetter(1))[0]\n",
    "\n",
    "\n",
    "print('The most wildires in a single year was ' +\n",
    "      str(round(max_value)) + ',' + ' occurring in ' + str(max_key) + '.')"
   ]
  },
  {
   "cell_type": "code",
   "execution_count": 25,
   "metadata": {
    "ExecuteTime": {
     "end_time": "2021-05-11T22:41:29.220625Z",
     "start_time": "2021-05-11T22:41:29.094537Z"
    }
   },
   "outputs": [],
   "source": [
    "Texas_df = wildfires_coordinates_df[wildfires_coordinates_df.STATE == 'TX']"
   ]
  },
  {
   "cell_type": "code",
   "execution_count": 26,
   "metadata": {
    "ExecuteTime": {
     "end_time": "2021-05-11T22:41:29.300052Z",
     "start_time": "2021-05-11T22:41:29.222652Z"
    }
   },
   "outputs": [
    {
     "name": "stdout",
     "output_type": "stream",
     "text": [
      "The year with 19453 wildfires was 2011.\n"
     ]
    }
   ],
   "source": [
    "year_dict = dict(zip(Texas_df.groupby(['year']).count(\n",
    ").OBJECTID.index, Texas_df.groupby(['year']).count().OBJECTID.values))\n",
    "\n",
    "max_value = max(year_dict.values())\n",
    "\n",
    "max_key = max(year_dict.items(), key=operator.itemgetter(1))[0]\n",
    "\n",
    "print('The year with ' + str(max_value) +\n",
    "      ' wildfires was ' + str(max_key) + '.')"
   ]
  },
  {
   "cell_type": "code",
   "execution_count": 27,
   "metadata": {
    "ExecuteTime": {
     "end_time": "2021-05-11T22:41:29.306883Z",
     "start_time": "2021-05-11T22:41:29.301947Z"
    }
   },
   "outputs": [],
   "source": [
    "Texas_2011_df = Texas_df[Texas_df.year == 2011]"
   ]
  },
  {
   "cell_type": "markdown",
   "metadata": {},
   "source": [
    "---------------------------------------------------"
   ]
  },
  {
   "cell_type": "markdown",
   "metadata": {
    "ExecuteTime": {
     "end_time": "2021-05-04T16:47:17.736432Z",
     "start_time": "2021-05-04T16:47:17.733803Z"
    }
   },
   "source": [
    "# Get Features & Target"
   ]
  },
  {
   "cell_type": "markdown",
   "metadata": {},
   "source": [
    "## API Call for Weather Tempertures"
   ]
  },
  {
   "cell_type": "markdown",
   "metadata": {},
   "source": [
    "### API function"
   ]
  },
  {
   "cell_type": "code",
   "execution_count": 28,
   "metadata": {
    "ExecuteTime": {
     "end_time": "2021-05-11T22:41:29.312999Z",
     "start_time": "2021-05-11T22:41:29.308826Z"
    }
   },
   "outputs": [],
   "source": [
    "def get_weather(datasetid, stationid, startdate, enddate, datatypeid ,limit, token):\n",
    "\n",
    "    token = {'token': token}\n",
    "\n",
    "    params = 'datasetid=' + datasetid + '&' + 'stationid=' + stationid + '&' + \\\n",
    "        'startdate=' + str(startdate) + '&' + 'enddate=' + \\\n",
    "        str(enddate) + '&' + 'datatypeid=' + datatypeid + '&' + 'limit=' + str(limit)\n",
    "\n",
    "    r = requests.get(base_url, params=params, headers=token)\n",
    "\n",
    "    print(\"Request status code: \"+ str(r.status_code))\n",
    "\n",
    "    return json.loads(r.text)"
   ]
  },
  {
   "cell_type": "markdown",
   "metadata": {
    "ExecuteTime": {
     "end_time": "2021-05-04T17:04:21.806425Z",
     "start_time": "2021-05-04T17:04:21.803210Z"
    }
   },
   "source": [
    "## API Weather data"
   ]
  },
  {
   "cell_type": "code",
   "execution_count": 29,
   "metadata": {
    "ExecuteTime": {
     "end_time": "2021-05-11T22:41:29.322899Z",
     "start_time": "2021-05-11T22:41:29.315637Z"
    }
   },
   "outputs": [],
   "source": [
    "station_list = set(Texas_2011_df.NOAA)\n",
    "\n",
    "station_list_dict = dict(enumerate(station_list))"
   ]
  },
  {
   "cell_type": "code",
   "execution_count": 30,
   "metadata": {
    "ExecuteTime": {
     "end_time": "2021-05-11T22:42:12.438242Z",
     "start_time": "2021-05-11T22:41:29.325711Z"
    }
   },
   "outputs": [
    {
     "name": "stdout",
     "output_type": "stream",
     "text": [
      "Request status code: 200\n",
      "Request status code: 200\n",
      "Request status code: 200\n",
      "Request status code: 200\n",
      "Request status code: 200\n",
      "Request status code: 200\n",
      "Request status code: 200\n",
      "Request status code: 200\n",
      "Request status code: 200\n",
      "Request status code: 200\n",
      "Request status code: 200\n",
      "Request status code: 200\n",
      "Request status code: 200\n",
      "Request status code: 200\n",
      "Request status code: 200\n",
      "Request status code: 200\n",
      "Request status code: 200\n",
      "Request status code: 200\n",
      "Request status code: 200\n",
      "Request status code: 200\n",
      "Request status code: 200\n",
      "Request status code: 200\n",
      "Request status code: 200\n",
      "Request status code: 200\n",
      "Request status code: 200\n",
      "Request status code: 200\n",
      "Request status code: 200\n",
      "Request status code: 200\n",
      "Request status code: 200\n",
      "Request status code: 200\n",
      "Request status code: 200\n"
     ]
    }
   ],
   "source": [
    "token = 'wtvrEYejcUwYDltcGRmzjkkHkxEhQfor'\n",
    "\n",
    "base_url = \"https://www.ncdc.noaa.gov/cdo-web/api/v2/data?\"\n",
    "\n",
    "startdate = '2011-01-01'\n",
    "\n",
    "enddate = '2011-12-31'\n",
    "\n",
    "datatypeid = 'TMAX'\n",
    "\n",
    "results = [get_weather('GHCND', i, startdate, enddate, datatypeid , 1000 , token ) for i in station_list] "
   ]
  },
  {
   "cell_type": "markdown",
   "metadata": {},
   "source": [
    "## Subset dataframe based on available weather station data from the API call"
   ]
  },
  {
   "cell_type": "code",
   "execution_count": 31,
   "metadata": {
    "ExecuteTime": {
     "end_time": "2021-05-11T22:42:12.444813Z",
     "start_time": "2021-05-11T22:42:12.440937Z"
    }
   },
   "outputs": [],
   "source": [
    "station_result_dict = dict(\n",
    "    enumerate([len(results[i]) != 0 for i in range(len(station_list))]))\n",
    "\n",
    "conditions = []\n",
    "\n",
    "for k, v in station_list_dict.items():\n",
    "    if station_result_dict[k] == True:\n",
    "        conditions.append(v)"
   ]
  },
  {
   "cell_type": "code",
   "execution_count": 32,
   "metadata": {
    "ExecuteTime": {
     "end_time": "2021-05-11T22:42:12.483295Z",
     "start_time": "2021-05-11T22:42:12.446864Z"
    }
   },
   "outputs": [],
   "source": [
    "Texas_2011_df_ready = pd.concat([Texas_2011_df[Texas_2011_df.NOAA == i] for i in conditions], axis = 0)"
   ]
  },
  {
   "cell_type": "markdown",
   "metadata": {},
   "source": [
    "## Turn api results into a dataframe"
   ]
  },
  {
   "cell_type": "code",
   "execution_count": 33,
   "metadata": {
    "ExecuteTime": {
     "end_time": "2021-05-11T22:42:12.488116Z",
     "start_time": "2021-05-11T22:42:12.485254Z"
    }
   },
   "outputs": [],
   "source": [
    "filtered = [k for k in station_result_dict.keys() if station_result_dict[k] == True]"
   ]
  },
  {
   "cell_type": "code",
   "execution_count": 34,
   "metadata": {
    "ExecuteTime": {
     "end_time": "2021-05-11T22:42:12.530929Z",
     "start_time": "2021-05-11T22:42:12.489918Z"
    }
   },
   "outputs": [],
   "source": [
    "api_result_df_list = []\n",
    "\n",
    "for i in filtered:\n",
    "\n",
    "    api_result_df = pd.DataFrame(results[i]['results'])\n",
    "\n",
    "    api_result_df.drop('attributes', axis=1, inplace=True)\n",
    "\n",
    "    api_result_df['date'] = pd.to_datetime(\n",
    "        api_result_df['date'], format='%Y-%m-%d')\n",
    "\n",
    "    api_result_df_list.append(api_result_df)\n",
    "\n",
    "api_result_df = pd.concat(api_result_df_list)"
   ]
  },
  {
   "cell_type": "code",
   "execution_count": 35,
   "metadata": {
    "ExecuteTime": {
     "end_time": "2021-05-11T22:42:20.561843Z",
     "start_time": "2021-05-11T22:42:12.533010Z"
    }
   },
   "outputs": [],
   "source": [
    "# Make a nested dictionary to make it easier to enter Temperture data for modeling\n",
    "# first key is noaa station the values are the keys of dates, whose values are the temperture readings.\n",
    "\n",
    "keys = list(api_result_df.station)\n",
    "\n",
    "feature_making_dict = {}\n",
    "\n",
    "for i in keys:\n",
    "\n",
    "    feature_making_dict[i] = ''\n",
    "\n",
    "    pre_dict_df = api_result_df[api_result_df.station ==\n",
    "                                i][['date', 'value']]\n",
    "    dict2 = dict(zip(pre_dict_df.date, pre_dict_df.value))\n",
    "\n",
    "    feature_making_dict[i] = dict2\n"
   ]
  },
  {
   "cell_type": "markdown",
   "metadata": {
    "ExecuteTime": {
     "end_time": "2021-05-04T15:28:01.245181Z",
     "start_time": "2021-05-04T15:28:01.242821Z"
    }
   },
   "source": [
    "### Creating the Temperture Feature in the data"
   ]
  },
  {
   "cell_type": "markdown",
   "metadata": {},
   "source": [
    "I need to lookup keys in a nested dictionary."
   ]
  },
  {
   "cell_type": "code",
   "execution_count": 36,
   "metadata": {
    "ExecuteTime": {
     "end_time": "2021-05-11T22:42:20.567767Z",
     "start_time": "2021-05-11T22:42:20.564127Z"
    }
   },
   "outputs": [],
   "source": [
    "def df_row(row_number):\n",
    "    return Texas_2011_df_ready[['NOAA', 'DISCOVERY_DATE']].iloc[row_number, ]"
   ]
  },
  {
   "cell_type": "code",
   "execution_count": 37,
   "metadata": {
    "ExecuteTime": {
     "end_time": "2021-05-11T22:42:31.585132Z",
     "start_time": "2021-05-11T22:42:20.570126Z"
    }
   },
   "outputs": [],
   "source": [
    "# this gives me the two keys in the nested dictionary...\n",
    "\n",
    "TMAX = [feature_making_dict.get(df_row(i)[0]).get(pd.to_datetime(df_row(i)[1])) for i in range(len(Texas_2011_df_ready))]"
   ]
  },
  {
   "cell_type": "code",
   "execution_count": 38,
   "metadata": {
    "ExecuteTime": {
     "end_time": "2021-05-11T22:42:31.593379Z",
     "start_time": "2021-05-11T22:42:31.587248Z"
    }
   },
   "outputs": [],
   "source": [
    "Texas_2011_df_ready['TMAX'] = TMAX\n"
   ]
  },
  {
   "cell_type": "code",
   "execution_count": 39,
   "metadata": {
    "ExecuteTime": {
     "end_time": "2021-05-11T22:42:31.598121Z",
     "start_time": "2021-05-11T22:42:31.595584Z"
    }
   },
   "outputs": [],
   "source": [
    "df_features = Texas_2011_df_ready"
   ]
  },
  {
   "cell_type": "markdown",
   "metadata": {},
   "source": [
    "## Getting the Fire Cause, Day of the Year Feature, Time of Fire, & Fire Size From Original Dateset"
   ]
  },
  {
   "cell_type": "code",
   "execution_count": 94,
   "metadata": {
    "ExecuteTime": {
     "end_time": "2021-05-12T11:20:32.699976Z",
     "start_time": "2021-05-12T11:20:18.899803Z"
    }
   },
   "outputs": [
    {
     "name": "stderr",
     "output_type": "stream",
     "text": [
      "/Users/jonathansilverman/opt/anaconda3/lib/python3.8/site-packages/IPython/core/interactiveshell.py:3146: DtypeWarning: Columns (8,10,11,12,13,14,15,16,17,18,35,37) have mixed types.Specify dtype option on import or set low_memory=False.\n",
      "  has_raised = await self.run_ast_nodes(code_ast.body, cell_name,\n"
     ]
    }
   ],
   "source": [
    "wildfires_df = pd.read_csv('wildfires.csv')"
   ]
  },
  {
   "cell_type": "code",
   "execution_count": 95,
   "metadata": {
    "ExecuteTime": {
     "end_time": "2021-05-12T11:20:35.033068Z",
     "start_time": "2021-05-12T11:20:32.702188Z"
    }
   },
   "outputs": [],
   "source": [
    "objectID_needed = df_features.OBJECTID.values\n",
    "\n",
    "fire_cause_dict = dict(zip(wildfires_df.OBJECTID.values, wildfires_df.STAT_CAUSE_DESCR))\n",
    "\n",
    "DOY_dict = dict(zip(wildfires_df.OBJECTID.values, wildfires_df.DISCOVERY_DOY))\n",
    "\n",
    "TIME_dict = dict(zip(wildfires_df.OBJECTID.values, wildfires_df.DISCOVERY_TIME))\n",
    "\n",
    "fire_size_dict = dict(zip(wildfires_df.OBJECTID.values, wildfires_df.FIRE_SIZE))\n",
    "\n",
    "df_features['STAT_CAUSE_DESCR'] = [fire_cause_dict.get(i) for i in objectID_needed]\n",
    "\n",
    "df_features['DISCOVERY_DOY'] = [DOY_dict.get(i) for i in objectID_needed]\n",
    "\n",
    "df_features['DISCOVERY_TIME'] = [TIME_dict.get(i) for i in objectID_needed]\n",
    "\n",
    "df_features['month'] = pd.DatetimeIndex(df_features['DISCOVERY_DATE']).month\n",
    "\n",
    "df_features['FIRE_SIZE'] = [fire_size_dict.get(i) for i in objectID_needed]"
   ]
  },
  {
   "cell_type": "code",
   "execution_count": 96,
   "metadata": {
    "ExecuteTime": {
     "end_time": "2021-05-12T11:20:35.051820Z",
     "start_time": "2021-05-12T11:20:35.037268Z"
    }
   },
   "outputs": [
    {
     "data": {
      "text/html": [
       "<div>\n",
       "<style scoped>\n",
       "    .dataframe tbody tr th:only-of-type {\n",
       "        vertical-align: middle;\n",
       "    }\n",
       "\n",
       "    .dataframe tbody tr th {\n",
       "        vertical-align: top;\n",
       "    }\n",
       "\n",
       "    .dataframe thead th {\n",
       "        text-align: right;\n",
       "    }\n",
       "</style>\n",
       "<table border=\"1\" class=\"dataframe\">\n",
       "  <thead>\n",
       "    <tr style=\"text-align: right;\">\n",
       "      <th></th>\n",
       "      <th>OBJECTID</th>\n",
       "      <th>STATE</th>\n",
       "      <th>LATITUDE</th>\n",
       "      <th>LONGITUDE</th>\n",
       "      <th>LAT_LONG</th>\n",
       "      <th>NOAA</th>\n",
       "      <th>DISCOVERY_DATE</th>\n",
       "      <th>DURATION</th>\n",
       "      <th>year</th>\n",
       "      <th>TMAX</th>\n",
       "      <th>STAT_CAUSE_DESCR</th>\n",
       "      <th>DISCOVERY_DOY</th>\n",
       "      <th>DISCOVERY_TIME</th>\n",
       "      <th>month</th>\n",
       "      <th>FIRE_SIZE</th>\n",
       "    </tr>\n",
       "  </thead>\n",
       "  <tbody>\n",
       "    <tr>\n",
       "      <th>1470827</th>\n",
       "      <td>1470828</td>\n",
       "      <td>TX</td>\n",
       "      <td>30.0</td>\n",
       "      <td>-98.0</td>\n",
       "      <td>(30.0, -98.0)</td>\n",
       "      <td>GHCND:USC00345563</td>\n",
       "      <td>2011-04-06</td>\n",
       "      <td>0</td>\n",
       "      <td>2011</td>\n",
       "      <td>222.0</td>\n",
       "      <td>Arson</td>\n",
       "      <td>96</td>\n",
       "      <td>1545.0</td>\n",
       "      <td>4</td>\n",
       "      <td>0.1</td>\n",
       "    </tr>\n",
       "    <tr>\n",
       "      <th>1470830</th>\n",
       "      <td>1470831</td>\n",
       "      <td>TX</td>\n",
       "      <td>30.0</td>\n",
       "      <td>-98.0</td>\n",
       "      <td>(30.0, -98.0)</td>\n",
       "      <td>GHCND:USC00345563</td>\n",
       "      <td>2011-03-09</td>\n",
       "      <td>0</td>\n",
       "      <td>2011</td>\n",
       "      <td>239.0</td>\n",
       "      <td>Equipment Use</td>\n",
       "      <td>68</td>\n",
       "      <td>1315.0</td>\n",
       "      <td>3</td>\n",
       "      <td>2.0</td>\n",
       "    </tr>\n",
       "    <tr>\n",
       "      <th>1524362</th>\n",
       "      <td>1524363</td>\n",
       "      <td>TX</td>\n",
       "      <td>30.0</td>\n",
       "      <td>-98.0</td>\n",
       "      <td>(30.0, -98.0)</td>\n",
       "      <td>GHCND:USC00345563</td>\n",
       "      <td>2011-01-06</td>\n",
       "      <td>0</td>\n",
       "      <td>2011</td>\n",
       "      <td>139.0</td>\n",
       "      <td>Equipment Use</td>\n",
       "      <td>6</td>\n",
       "      <td>1524.0</td>\n",
       "      <td>1</td>\n",
       "      <td>65.0</td>\n",
       "    </tr>\n",
       "    <tr>\n",
       "      <th>1524378</th>\n",
       "      <td>1524379</td>\n",
       "      <td>TX</td>\n",
       "      <td>30.0</td>\n",
       "      <td>-98.0</td>\n",
       "      <td>(30.0, -98.0)</td>\n",
       "      <td>GHCND:USC00345563</td>\n",
       "      <td>2011-01-19</td>\n",
       "      <td>1</td>\n",
       "      <td>2011</td>\n",
       "      <td>106.0</td>\n",
       "      <td>Equipment Use</td>\n",
       "      <td>19</td>\n",
       "      <td>1530.0</td>\n",
       "      <td>1</td>\n",
       "      <td>6.0</td>\n",
       "    </tr>\n",
       "    <tr>\n",
       "      <th>1524381</th>\n",
       "      <td>1524382</td>\n",
       "      <td>TX</td>\n",
       "      <td>30.0</td>\n",
       "      <td>-98.0</td>\n",
       "      <td>(30.0, -98.0)</td>\n",
       "      <td>GHCND:USC00345563</td>\n",
       "      <td>2011-01-25</td>\n",
       "      <td>0</td>\n",
       "      <td>2011</td>\n",
       "      <td>128.0</td>\n",
       "      <td>Debris Burning</td>\n",
       "      <td>25</td>\n",
       "      <td>1345.0</td>\n",
       "      <td>1</td>\n",
       "      <td>10.0</td>\n",
       "    </tr>\n",
       "  </tbody>\n",
       "</table>\n",
       "</div>"
      ],
      "text/plain": [
       "         OBJECTID STATE  LATITUDE  LONGITUDE       LAT_LONG  \\\n",
       "1470827   1470828    TX      30.0      -98.0  (30.0, -98.0)   \n",
       "1470830   1470831    TX      30.0      -98.0  (30.0, -98.0)   \n",
       "1524362   1524363    TX      30.0      -98.0  (30.0, -98.0)   \n",
       "1524378   1524379    TX      30.0      -98.0  (30.0, -98.0)   \n",
       "1524381   1524382    TX      30.0      -98.0  (30.0, -98.0)   \n",
       "\n",
       "                      NOAA DISCOVERY_DATE  DURATION  year   TMAX  \\\n",
       "1470827  GHCND:USC00345563     2011-04-06         0  2011  222.0   \n",
       "1470830  GHCND:USC00345563     2011-03-09         0  2011  239.0   \n",
       "1524362  GHCND:USC00345563     2011-01-06         0  2011  139.0   \n",
       "1524378  GHCND:USC00345563     2011-01-19         1  2011  106.0   \n",
       "1524381  GHCND:USC00345563     2011-01-25         0  2011  128.0   \n",
       "\n",
       "        STAT_CAUSE_DESCR  DISCOVERY_DOY  DISCOVERY_TIME  month  FIRE_SIZE  \n",
       "1470827            Arson             96          1545.0      4        0.1  \n",
       "1470830    Equipment Use             68          1315.0      3        2.0  \n",
       "1524362    Equipment Use              6          1524.0      1       65.0  \n",
       "1524378    Equipment Use             19          1530.0      1        6.0  \n",
       "1524381   Debris Burning             25          1345.0      1       10.0  "
      ]
     },
     "execution_count": 96,
     "metadata": {},
     "output_type": "execute_result"
    }
   ],
   "source": [
    "df_features.head() "
   ]
  },
  {
   "cell_type": "code",
   "execution_count": 97,
   "metadata": {
    "ExecuteTime": {
     "end_time": "2021-05-12T11:20:35.060947Z",
     "start_time": "2021-05-12T11:20:35.054429Z"
    }
   },
   "outputs": [],
   "source": [
    "data_df = df_features[(df_features.STAT_CAUSE_DESCR != 'Missing/Undefined')]"
   ]
  },
  {
   "cell_type": "code",
   "execution_count": 98,
   "metadata": {
    "ExecuteTime": {
     "end_time": "2021-05-12T11:20:35.067217Z",
     "start_time": "2021-05-12T11:20:35.062593Z"
    }
   },
   "outputs": [
    {
     "data": {
      "text/plain": [
       "{'Arson',\n",
       " 'Campfire',\n",
       " 'Children',\n",
       " 'Debris Burning',\n",
       " 'Equipment Use',\n",
       " 'Fireworks',\n",
       " 'Lightning',\n",
       " 'Miscellaneous',\n",
       " 'Powerline',\n",
       " 'Railroad',\n",
       " 'Smoking'}"
      ]
     },
     "execution_count": 98,
     "metadata": {},
     "output_type": "execute_result"
    }
   ],
   "source": [
    "set(data_df.STAT_CAUSE_DESCR)"
   ]
  },
  {
   "cell_type": "markdown",
   "metadata": {},
   "source": [
    "# Using Statistics or Data Understanding For Feature Hunting"
   ]
  },
  {
   "cell_type": "markdown",
   "metadata": {},
   "source": [
    "We can use basic principles from statistics to guide feature creation and feature selection.  Differences in how variables are distibuted amongst the various classes suggest those variables make good predictive features."
   ]
  },
  {
   "cell_type": "markdown",
   "metadata": {
    "ExecuteTime": {
     "end_time": "2021-05-08T17:28:52.200537Z",
     "start_time": "2021-05-08T17:28:52.198342Z"
    },
    "heading_collapsed": true
   },
   "source": [
    "## Do the months' favor different causes? "
   ]
  },
  {
   "cell_type": "code",
   "execution_count": 99,
   "metadata": {
    "ExecuteTime": {
     "end_time": "2021-05-12T11:20:35.073307Z",
     "start_time": "2021-05-12T11:20:35.068974Z"
    },
    "hidden": true
   },
   "outputs": [
    {
     "data": {
      "text/plain": [
       "{'Arson',\n",
       " 'Campfire',\n",
       " 'Children',\n",
       " 'Debris Burning',\n",
       " 'Equipment Use',\n",
       " 'Fireworks',\n",
       " 'Lightning',\n",
       " 'Miscellaneous',\n",
       " 'Powerline',\n",
       " 'Railroad',\n",
       " 'Smoking'}"
      ]
     },
     "execution_count": 99,
     "metadata": {},
     "output_type": "execute_result"
    }
   ],
   "source": [
    "set(data_df.STAT_CAUSE_DESCR)"
   ]
  },
  {
   "cell_type": "code",
   "execution_count": 100,
   "metadata": {
    "ExecuteTime": {
     "end_time": "2021-05-12T11:20:35.078402Z",
     "start_time": "2021-05-12T11:20:35.074985Z"
    },
    "hidden": true
   },
   "outputs": [],
   "source": [
    "month_and_cause_df = data_df[['month', 'STAT_CAUSE_DESCR']]"
   ]
  },
  {
   "cell_type": "code",
   "execution_count": 101,
   "metadata": {
    "ExecuteTime": {
     "end_time": "2021-05-12T11:20:35.109898Z",
     "start_time": "2021-05-12T11:20:35.081890Z"
    },
    "hidden": true
   },
   "outputs": [],
   "source": [
    "causes_set = set(month_and_cause_df.STAT_CAUSE_DESCR)\n",
    "\n",
    "\n",
    "df_list = [month_and_cause_df[month_and_cause_df.STAT_CAUSE_DESCR ==\n",
    "                              i].groupby('month').count() for i in causes_set]\n",
    "\n",
    "\n",
    "month_and_cause_df = pd.concat(df_list, axis = 1)\n",
    "\n",
    "month_and_cause_df.columns = causes_set"
   ]
  },
  {
   "cell_type": "code",
   "execution_count": 102,
   "metadata": {
    "ExecuteTime": {
     "end_time": "2021-05-12T11:20:35.124713Z",
     "start_time": "2021-05-12T11:20:35.112116Z"
    },
    "hidden": true
   },
   "outputs": [
    {
     "data": {
      "text/html": [
       "<div>\n",
       "<style scoped>\n",
       "    .dataframe tbody tr th:only-of-type {\n",
       "        vertical-align: middle;\n",
       "    }\n",
       "\n",
       "    .dataframe tbody tr th {\n",
       "        vertical-align: top;\n",
       "    }\n",
       "\n",
       "    .dataframe thead th {\n",
       "        text-align: right;\n",
       "    }\n",
       "</style>\n",
       "<table border=\"1\" class=\"dataframe\">\n",
       "  <thead>\n",
       "    <tr style=\"text-align: right;\">\n",
       "      <th></th>\n",
       "      <th>Children</th>\n",
       "      <th>Railroad</th>\n",
       "      <th>Miscellaneous</th>\n",
       "      <th>Lightning</th>\n",
       "      <th>Debris Burning</th>\n",
       "      <th>Smoking</th>\n",
       "      <th>Campfire</th>\n",
       "      <th>Powerline</th>\n",
       "      <th>Arson</th>\n",
       "      <th>Fireworks</th>\n",
       "      <th>Equipment Use</th>\n",
       "    </tr>\n",
       "    <tr>\n",
       "      <th>month</th>\n",
       "      <th></th>\n",
       "      <th></th>\n",
       "      <th></th>\n",
       "      <th></th>\n",
       "      <th></th>\n",
       "      <th></th>\n",
       "      <th></th>\n",
       "      <th></th>\n",
       "      <th></th>\n",
       "      <th></th>\n",
       "      <th></th>\n",
       "    </tr>\n",
       "  </thead>\n",
       "  <tbody>\n",
       "    <tr>\n",
       "      <th>1</th>\n",
       "      <td>9</td>\n",
       "      <td>3.0</td>\n",
       "      <td>202</td>\n",
       "      <td>5.0</td>\n",
       "      <td>289</td>\n",
       "      <td>12</td>\n",
       "      <td>8</td>\n",
       "      <td>23</td>\n",
       "      <td>26</td>\n",
       "      <td>0.0</td>\n",
       "      <td>94</td>\n",
       "    </tr>\n",
       "    <tr>\n",
       "      <th>2</th>\n",
       "      <td>13</td>\n",
       "      <td>1.0</td>\n",
       "      <td>187</td>\n",
       "      <td>1.0</td>\n",
       "      <td>307</td>\n",
       "      <td>14</td>\n",
       "      <td>21</td>\n",
       "      <td>35</td>\n",
       "      <td>35</td>\n",
       "      <td>0.0</td>\n",
       "      <td>91</td>\n",
       "    </tr>\n",
       "    <tr>\n",
       "      <th>3</th>\n",
       "      <td>11</td>\n",
       "      <td>2.0</td>\n",
       "      <td>216</td>\n",
       "      <td>11.0</td>\n",
       "      <td>270</td>\n",
       "      <td>20</td>\n",
       "      <td>19</td>\n",
       "      <td>42</td>\n",
       "      <td>44</td>\n",
       "      <td>0.0</td>\n",
       "      <td>105</td>\n",
       "    </tr>\n",
       "    <tr>\n",
       "      <th>4</th>\n",
       "      <td>8</td>\n",
       "      <td>7.0</td>\n",
       "      <td>224</td>\n",
       "      <td>41.0</td>\n",
       "      <td>165</td>\n",
       "      <td>32</td>\n",
       "      <td>7</td>\n",
       "      <td>93</td>\n",
       "      <td>61</td>\n",
       "      <td>0.0</td>\n",
       "      <td>115</td>\n",
       "    </tr>\n",
       "    <tr>\n",
       "      <th>5</th>\n",
       "      <td>5</td>\n",
       "      <td>0.0</td>\n",
       "      <td>136</td>\n",
       "      <td>41.0</td>\n",
       "      <td>105</td>\n",
       "      <td>9</td>\n",
       "      <td>5</td>\n",
       "      <td>37</td>\n",
       "      <td>26</td>\n",
       "      <td>0.0</td>\n",
       "      <td>109</td>\n",
       "    </tr>\n",
       "    <tr>\n",
       "      <th>6</th>\n",
       "      <td>10</td>\n",
       "      <td>8.0</td>\n",
       "      <td>187</td>\n",
       "      <td>107.0</td>\n",
       "      <td>149</td>\n",
       "      <td>30</td>\n",
       "      <td>6</td>\n",
       "      <td>53</td>\n",
       "      <td>32</td>\n",
       "      <td>0.0</td>\n",
       "      <td>145</td>\n",
       "    </tr>\n",
       "    <tr>\n",
       "      <th>7</th>\n",
       "      <td>10</td>\n",
       "      <td>5.0</td>\n",
       "      <td>253</td>\n",
       "      <td>119.0</td>\n",
       "      <td>137</td>\n",
       "      <td>31</td>\n",
       "      <td>8</td>\n",
       "      <td>49</td>\n",
       "      <td>37</td>\n",
       "      <td>2.0</td>\n",
       "      <td>147</td>\n",
       "    </tr>\n",
       "    <tr>\n",
       "      <th>8</th>\n",
       "      <td>10</td>\n",
       "      <td>7.0</td>\n",
       "      <td>272</td>\n",
       "      <td>171.0</td>\n",
       "      <td>123</td>\n",
       "      <td>41</td>\n",
       "      <td>1</td>\n",
       "      <td>109</td>\n",
       "      <td>79</td>\n",
       "      <td>0.0</td>\n",
       "      <td>159</td>\n",
       "    </tr>\n",
       "    <tr>\n",
       "      <th>9</th>\n",
       "      <td>3</td>\n",
       "      <td>5.0</td>\n",
       "      <td>287</td>\n",
       "      <td>121.0</td>\n",
       "      <td>139</td>\n",
       "      <td>28</td>\n",
       "      <td>7</td>\n",
       "      <td>94</td>\n",
       "      <td>71</td>\n",
       "      <td>0.0</td>\n",
       "      <td>154</td>\n",
       "    </tr>\n",
       "    <tr>\n",
       "      <th>10</th>\n",
       "      <td>4</td>\n",
       "      <td>2.0</td>\n",
       "      <td>98</td>\n",
       "      <td>16.0</td>\n",
       "      <td>111</td>\n",
       "      <td>6</td>\n",
       "      <td>3</td>\n",
       "      <td>34</td>\n",
       "      <td>18</td>\n",
       "      <td>0.0</td>\n",
       "      <td>53</td>\n",
       "    </tr>\n",
       "    <tr>\n",
       "      <th>11</th>\n",
       "      <td>1</td>\n",
       "      <td>0.0</td>\n",
       "      <td>29</td>\n",
       "      <td>3.0</td>\n",
       "      <td>75</td>\n",
       "      <td>4</td>\n",
       "      <td>3</td>\n",
       "      <td>8</td>\n",
       "      <td>7</td>\n",
       "      <td>0.0</td>\n",
       "      <td>23</td>\n",
       "    </tr>\n",
       "    <tr>\n",
       "      <th>12</th>\n",
       "      <td>2</td>\n",
       "      <td>0.0</td>\n",
       "      <td>18</td>\n",
       "      <td>0.0</td>\n",
       "      <td>91</td>\n",
       "      <td>3</td>\n",
       "      <td>1</td>\n",
       "      <td>5</td>\n",
       "      <td>5</td>\n",
       "      <td>0.0</td>\n",
       "      <td>10</td>\n",
       "    </tr>\n",
       "  </tbody>\n",
       "</table>\n",
       "</div>"
      ],
      "text/plain": [
       "       Children  Railroad  Miscellaneous  Lightning  Debris Burning  Smoking  \\\n",
       "month                                                                          \n",
       "1             9       3.0            202        5.0             289       12   \n",
       "2            13       1.0            187        1.0             307       14   \n",
       "3            11       2.0            216       11.0             270       20   \n",
       "4             8       7.0            224       41.0             165       32   \n",
       "5             5       0.0            136       41.0             105        9   \n",
       "6            10       8.0            187      107.0             149       30   \n",
       "7            10       5.0            253      119.0             137       31   \n",
       "8            10       7.0            272      171.0             123       41   \n",
       "9             3       5.0            287      121.0             139       28   \n",
       "10            4       2.0             98       16.0             111        6   \n",
       "11            1       0.0             29        3.0              75        4   \n",
       "12            2       0.0             18        0.0              91        3   \n",
       "\n",
       "       Campfire  Powerline  Arson  Fireworks  Equipment Use  \n",
       "month                                                        \n",
       "1             8         23     26        0.0             94  \n",
       "2            21         35     35        0.0             91  \n",
       "3            19         42     44        0.0            105  \n",
       "4             7         93     61        0.0            115  \n",
       "5             5         37     26        0.0            109  \n",
       "6             6         53     32        0.0            145  \n",
       "7             8         49     37        2.0            147  \n",
       "8             1        109     79        0.0            159  \n",
       "9             7         94     71        0.0            154  \n",
       "10            3         34     18        0.0             53  \n",
       "11            3          8      7        0.0             23  \n",
       "12            1          5      5        0.0             10  "
      ]
     },
     "execution_count": 102,
     "metadata": {},
     "output_type": "execute_result"
    }
   ],
   "source": [
    "month_and_cause_df.fillna(0, inplace = True)\n",
    "\n",
    "month_and_cause_df"
   ]
  },
  {
   "cell_type": "code",
   "execution_count": 103,
   "metadata": {
    "ExecuteTime": {
     "end_time": "2021-05-12T11:20:35.132835Z",
     "start_time": "2021-05-12T11:20:35.126430Z"
    },
    "hidden": true
   },
   "outputs": [],
   "source": [
    "from scipy import stats\n",
    "\n",
    "normalized_values = [dict(enumerate(stats.zscore(month_and_cause_df[i]),1)) for i in causes_set]\n",
    "\n",
    "month_and_cause_normalized_df = pd.DataFrame(dict(zip(causes_set,normalized_values)))"
   ]
  },
  {
   "cell_type": "code",
   "execution_count": 104,
   "metadata": {
    "ExecuteTime": {
     "end_time": "2021-05-12T11:20:35.141121Z",
     "start_time": "2021-05-12T11:20:35.134997Z"
    },
    "hidden": true
   },
   "outputs": [],
   "source": [
    "month_and_cause_normalized_df = month_and_cause_normalized_df.round(2)"
   ]
  },
  {
   "cell_type": "code",
   "execution_count": 105,
   "metadata": {
    "ExecuteTime": {
     "end_time": "2021-05-12T11:20:35.158239Z",
     "start_time": "2021-05-12T11:20:35.142787Z"
    },
    "hidden": true
   },
   "outputs": [
    {
     "data": {
      "text/html": [
       "<div>\n",
       "<style scoped>\n",
       "    .dataframe tbody tr th:only-of-type {\n",
       "        vertical-align: middle;\n",
       "    }\n",
       "\n",
       "    .dataframe tbody tr th {\n",
       "        vertical-align: top;\n",
       "    }\n",
       "\n",
       "    .dataframe thead th {\n",
       "        text-align: right;\n",
       "    }\n",
       "</style>\n",
       "<table border=\"1\" class=\"dataframe\">\n",
       "  <thead>\n",
       "    <tr style=\"text-align: right;\">\n",
       "      <th></th>\n",
       "      <th>Children</th>\n",
       "      <th>Railroad</th>\n",
       "      <th>Miscellaneous</th>\n",
       "      <th>Lightning</th>\n",
       "      <th>Debris Burning</th>\n",
       "      <th>Smoking</th>\n",
       "      <th>Campfire</th>\n",
       "      <th>Powerline</th>\n",
       "      <th>Arson</th>\n",
       "      <th>Fireworks</th>\n",
       "      <th>Equipment Use</th>\n",
       "    </tr>\n",
       "  </thead>\n",
       "  <tbody>\n",
       "    <tr>\n",
       "      <th>1</th>\n",
       "      <td>0.48</td>\n",
       "      <td>-0.12</td>\n",
       "      <td>0.31</td>\n",
       "      <td>-0.84</td>\n",
       "      <td>1.64</td>\n",
       "      <td>-0.58</td>\n",
       "      <td>0.10</td>\n",
       "      <td>-0.79</td>\n",
       "      <td>-0.48</td>\n",
       "      <td>-0.30</td>\n",
       "      <td>-0.13</td>\n",
       "    </tr>\n",
       "    <tr>\n",
       "      <th>2</th>\n",
       "      <td>1.53</td>\n",
       "      <td>-0.82</td>\n",
       "      <td>0.13</td>\n",
       "      <td>-0.91</td>\n",
       "      <td>1.88</td>\n",
       "      <td>-0.42</td>\n",
       "      <td>2.22</td>\n",
       "      <td>-0.42</td>\n",
       "      <td>-0.08</td>\n",
       "      <td>-0.30</td>\n",
       "      <td>-0.20</td>\n",
       "    </tr>\n",
       "    <tr>\n",
       "      <th>3</th>\n",
       "      <td>1.01</td>\n",
       "      <td>-0.47</td>\n",
       "      <td>0.47</td>\n",
       "      <td>-0.73</td>\n",
       "      <td>1.39</td>\n",
       "      <td>0.07</td>\n",
       "      <td>1.89</td>\n",
       "      <td>-0.20</td>\n",
       "      <td>0.32</td>\n",
       "      <td>-0.30</td>\n",
       "      <td>0.10</td>\n",
       "    </tr>\n",
       "    <tr>\n",
       "      <th>4</th>\n",
       "      <td>0.22</td>\n",
       "      <td>1.29</td>\n",
       "      <td>0.57</td>\n",
       "      <td>-0.21</td>\n",
       "      <td>0.02</td>\n",
       "      <td>1.04</td>\n",
       "      <td>-0.07</td>\n",
       "      <td>1.38</td>\n",
       "      <td>1.08</td>\n",
       "      <td>-0.30</td>\n",
       "      <td>0.31</td>\n",
       "    </tr>\n",
       "    <tr>\n",
       "      <th>5</th>\n",
       "      <td>-0.57</td>\n",
       "      <td>-1.17</td>\n",
       "      <td>-0.47</td>\n",
       "      <td>-0.21</td>\n",
       "      <td>-0.76</td>\n",
       "      <td>-0.82</td>\n",
       "      <td>-0.40</td>\n",
       "      <td>-0.36</td>\n",
       "      <td>-0.48</td>\n",
       "      <td>-0.30</td>\n",
       "      <td>0.18</td>\n",
       "    </tr>\n",
       "    <tr>\n",
       "      <th>6</th>\n",
       "      <td>0.74</td>\n",
       "      <td>1.64</td>\n",
       "      <td>0.13</td>\n",
       "      <td>0.94</td>\n",
       "      <td>-0.19</td>\n",
       "      <td>0.88</td>\n",
       "      <td>-0.23</td>\n",
       "      <td>0.14</td>\n",
       "      <td>-0.21</td>\n",
       "      <td>-0.30</td>\n",
       "      <td>0.93</td>\n",
       "    </tr>\n",
       "    <tr>\n",
       "      <th>7</th>\n",
       "      <td>0.74</td>\n",
       "      <td>0.59</td>\n",
       "      <td>0.91</td>\n",
       "      <td>1.15</td>\n",
       "      <td>-0.35</td>\n",
       "      <td>0.96</td>\n",
       "      <td>0.10</td>\n",
       "      <td>0.02</td>\n",
       "      <td>0.01</td>\n",
       "      <td>3.32</td>\n",
       "      <td>0.98</td>\n",
       "    </tr>\n",
       "    <tr>\n",
       "      <th>8</th>\n",
       "      <td>0.74</td>\n",
       "      <td>1.29</td>\n",
       "      <td>1.13</td>\n",
       "      <td>2.06</td>\n",
       "      <td>-0.53</td>\n",
       "      <td>1.77</td>\n",
       "      <td>-1.05</td>\n",
       "      <td>1.88</td>\n",
       "      <td>1.87</td>\n",
       "      <td>-0.30</td>\n",
       "      <td>1.23</td>\n",
       "    </tr>\n",
       "    <tr>\n",
       "      <th>9</th>\n",
       "      <td>-1.10</td>\n",
       "      <td>0.59</td>\n",
       "      <td>1.31</td>\n",
       "      <td>1.18</td>\n",
       "      <td>-0.32</td>\n",
       "      <td>0.72</td>\n",
       "      <td>-0.07</td>\n",
       "      <td>1.41</td>\n",
       "      <td>1.52</td>\n",
       "      <td>-0.30</td>\n",
       "      <td>1.12</td>\n",
       "    </tr>\n",
       "    <tr>\n",
       "      <th>10</th>\n",
       "      <td>-0.83</td>\n",
       "      <td>-0.47</td>\n",
       "      <td>-0.92</td>\n",
       "      <td>-0.64</td>\n",
       "      <td>-0.69</td>\n",
       "      <td>-1.07</td>\n",
       "      <td>-0.72</td>\n",
       "      <td>-0.45</td>\n",
       "      <td>-0.83</td>\n",
       "      <td>-0.30</td>\n",
       "      <td>-0.99</td>\n",
       "    </tr>\n",
       "    <tr>\n",
       "      <th>11</th>\n",
       "      <td>-1.62</td>\n",
       "      <td>-1.17</td>\n",
       "      <td>-1.73</td>\n",
       "      <td>-0.87</td>\n",
       "      <td>-1.16</td>\n",
       "      <td>-1.23</td>\n",
       "      <td>-0.72</td>\n",
       "      <td>-1.26</td>\n",
       "      <td>-1.32</td>\n",
       "      <td>-0.30</td>\n",
       "      <td>-1.62</td>\n",
       "    </tr>\n",
       "    <tr>\n",
       "      <th>12</th>\n",
       "      <td>-1.36</td>\n",
       "      <td>-1.17</td>\n",
       "      <td>-1.86</td>\n",
       "      <td>-0.92</td>\n",
       "      <td>-0.95</td>\n",
       "      <td>-1.31</td>\n",
       "      <td>-1.05</td>\n",
       "      <td>-1.35</td>\n",
       "      <td>-1.41</td>\n",
       "      <td>-0.30</td>\n",
       "      <td>-1.90</td>\n",
       "    </tr>\n",
       "  </tbody>\n",
       "</table>\n",
       "</div>"
      ],
      "text/plain": [
       "    Children  Railroad  Miscellaneous  Lightning  Debris Burning  Smoking  \\\n",
       "1       0.48     -0.12           0.31      -0.84            1.64    -0.58   \n",
       "2       1.53     -0.82           0.13      -0.91            1.88    -0.42   \n",
       "3       1.01     -0.47           0.47      -0.73            1.39     0.07   \n",
       "4       0.22      1.29           0.57      -0.21            0.02     1.04   \n",
       "5      -0.57     -1.17          -0.47      -0.21           -0.76    -0.82   \n",
       "6       0.74      1.64           0.13       0.94           -0.19     0.88   \n",
       "7       0.74      0.59           0.91       1.15           -0.35     0.96   \n",
       "8       0.74      1.29           1.13       2.06           -0.53     1.77   \n",
       "9      -1.10      0.59           1.31       1.18           -0.32     0.72   \n",
       "10     -0.83     -0.47          -0.92      -0.64           -0.69    -1.07   \n",
       "11     -1.62     -1.17          -1.73      -0.87           -1.16    -1.23   \n",
       "12     -1.36     -1.17          -1.86      -0.92           -0.95    -1.31   \n",
       "\n",
       "    Campfire  Powerline  Arson  Fireworks  Equipment Use  \n",
       "1       0.10      -0.79  -0.48      -0.30          -0.13  \n",
       "2       2.22      -0.42  -0.08      -0.30          -0.20  \n",
       "3       1.89      -0.20   0.32      -0.30           0.10  \n",
       "4      -0.07       1.38   1.08      -0.30           0.31  \n",
       "5      -0.40      -0.36  -0.48      -0.30           0.18  \n",
       "6      -0.23       0.14  -0.21      -0.30           0.93  \n",
       "7       0.10       0.02   0.01       3.32           0.98  \n",
       "8      -1.05       1.88   1.87      -0.30           1.23  \n",
       "9      -0.07       1.41   1.52      -0.30           1.12  \n",
       "10     -0.72      -0.45  -0.83      -0.30          -0.99  \n",
       "11     -0.72      -1.26  -1.32      -0.30          -1.62  \n",
       "12     -1.05      -1.35  -1.41      -0.30          -1.90  "
      ]
     },
     "execution_count": 105,
     "metadata": {},
     "output_type": "execute_result"
    }
   ],
   "source": [
    "month_and_cause_normalized_df"
   ]
  },
  {
   "cell_type": "code",
   "execution_count": 106,
   "metadata": {
    "ExecuteTime": {
     "end_time": "2021-05-12T11:20:35.168209Z",
     "start_time": "2021-05-12T11:20:35.160119Z"
    },
    "hidden": true
   },
   "outputs": [
    {
     "name": "stdout",
     "output_type": "stream",
     "text": [
      "Fires from  Children  mostly happened in the months of  [2]\n",
      "Fires from  Railroad  mostly happened in the months of  [6]\n",
      "Fires from  Miscellaneous  mostly happened in the months of  []\n",
      "Fires from  Lightning  mostly happened in the months of  [8]\n",
      "Fires from  Debris Burning  mostly happened in the months of  [1, 2]\n",
      "Fires from  Smoking  mostly happened in the months of  [8]\n",
      "Fires from  Campfire  mostly happened in the months of  [2, 3]\n",
      "Fires from  Powerline  mostly happened in the months of  [8]\n",
      "Fires from  Arson  mostly happened in the months of  [8, 9]\n",
      "Fires from  Fireworks  mostly happened in the months of  [7]\n",
      "Fires from  Equipment Use  mostly happened in the months of  []\n"
     ]
    }
   ],
   "source": [
    "for i in causes_set:\n",
    "\n",
    "    array = month_and_cause_normalized_df[i] >= 1.5\n",
    "\n",
    "    months = [i for i, x in enumerate(array, 1) if x]\n",
    "\n",
    "    print('Fires from ', i, ' mostly happened in the months of ', months)"
   ]
  },
  {
   "cell_type": "code",
   "execution_count": 107,
   "metadata": {
    "ExecuteTime": {
     "end_time": "2021-05-12T11:20:35.177315Z",
     "start_time": "2021-05-12T11:20:35.170111Z"
    },
    "hidden": true
   },
   "outputs": [
    {
     "name": "stdout",
     "output_type": "stream",
     "text": [
      "Fires from  Children  rarely happened in the months of  [11]\n",
      "Fires from  Railroad  rarely happened in the months of  []\n",
      "Fires from  Miscellaneous  rarely happened in the months of  [11, 12]\n",
      "Fires from  Lightning  rarely happened in the months of  []\n",
      "Fires from  Debris Burning  rarely happened in the months of  []\n",
      "Fires from  Smoking  rarely happened in the months of  []\n",
      "Fires from  Campfire  rarely happened in the months of  []\n",
      "Fires from  Powerline  rarely happened in the months of  []\n",
      "Fires from  Arson  rarely happened in the months of  []\n",
      "Fires from  Fireworks  rarely happened in the months of  []\n",
      "Fires from  Equipment Use  rarely happened in the months of  [11, 12]\n"
     ]
    }
   ],
   "source": [
    "for i in causes_set:\n",
    "\n",
    "    array = month_and_cause_normalized_df[i] <= -1.5\n",
    "\n",
    "    months = [i for i, x in enumerate(array, 1) if x]\n",
    "\n",
    "    print('Fires from ', i, ' rarely happened in the months of ', months)"
   ]
  },
  {
   "cell_type": "markdown",
   "metadata": {
    "ExecuteTime": {
     "end_time": "2021-05-08T20:14:02.999269Z",
     "start_time": "2021-05-08T20:14:02.997208Z"
    }
   },
   "source": [
    "## Can duration of fires hint at the cause?"
   ]
  },
  {
   "cell_type": "code",
   "execution_count": 108,
   "metadata": {
    "ExecuteTime": {
     "end_time": "2021-05-12T11:20:36.055322Z",
     "start_time": "2021-05-12T11:20:36.051230Z"
    }
   },
   "outputs": [],
   "source": [
    "duration_and_cause_df = data_df[['DURATION', 'STAT_CAUSE_DESCR']]"
   ]
  },
  {
   "cell_type": "code",
   "execution_count": 109,
   "metadata": {
    "ExecuteTime": {
     "end_time": "2021-05-12T11:20:36.356692Z",
     "start_time": "2021-05-12T11:20:36.351507Z"
    }
   },
   "outputs": [
    {
     "name": "stdout",
     "output_type": "stream",
     "text": [
      "Fires are put out as quickly as  0 days or as much as  35 days.\n"
     ]
    }
   ],
   "source": [
    "print(\"Fires are put out as quickly as \" , min(duration_and_cause_df.DURATION) , \"days or as much as \", max(duration_and_cause_df.DURATION), 'days.')"
   ]
  },
  {
   "cell_type": "markdown",
   "metadata": {
    "ExecuteTime": {
     "end_time": "2021-05-12T11:17:19.191358Z",
     "start_time": "2021-05-12T11:17:19.189020Z"
    }
   },
   "source": [
    "## Is Fire_size distributed differently across causes?"
   ]
  },
  {
   "cell_type": "code",
   "execution_count": 111,
   "metadata": {
    "ExecuteTime": {
     "end_time": "2021-05-12T11:20:41.409736Z",
     "start_time": "2021-05-12T11:20:41.405723Z"
    }
   },
   "outputs": [
    {
     "data": {
      "text/plain": [
       "Index(['OBJECTID', 'STATE', 'LATITUDE', 'LONGITUDE', 'LAT_LONG', 'NOAA',\n",
       "       'DISCOVERY_DATE', 'DURATION', 'year', 'TMAX', 'STAT_CAUSE_DESCR',\n",
       "       'DISCOVERY_DOY', 'DISCOVERY_TIME', 'month', 'FIRE_SIZE'],\n",
       "      dtype='object')"
      ]
     },
     "execution_count": 111,
     "metadata": {},
     "output_type": "execute_result"
    }
   ],
   "source": [
    "data_df.columns"
   ]
  },
  {
   "cell_type": "code",
   "execution_count": 114,
   "metadata": {
    "ExecuteTime": {
     "end_time": "2021-05-12T11:51:19.502313Z",
     "start_time": "2021-05-12T11:51:19.494739Z"
    }
   },
   "outputs": [
    {
     "data": {
      "text/html": [
       "<div>\n",
       "<style scoped>\n",
       "    .dataframe tbody tr th:only-of-type {\n",
       "        vertical-align: middle;\n",
       "    }\n",
       "\n",
       "    .dataframe tbody tr th {\n",
       "        vertical-align: top;\n",
       "    }\n",
       "\n",
       "    .dataframe thead th {\n",
       "        text-align: right;\n",
       "    }\n",
       "</style>\n",
       "<table border=\"1\" class=\"dataframe\">\n",
       "  <thead>\n",
       "    <tr style=\"text-align: right;\">\n",
       "      <th></th>\n",
       "      <th>FIRE_SIZE</th>\n",
       "      <th>STAT_CAUSE_DESCR</th>\n",
       "    </tr>\n",
       "  </thead>\n",
       "  <tbody>\n",
       "    <tr>\n",
       "      <th>1470827</th>\n",
       "      <td>0.1</td>\n",
       "      <td>Arson</td>\n",
       "    </tr>\n",
       "    <tr>\n",
       "      <th>1470830</th>\n",
       "      <td>2.0</td>\n",
       "      <td>Equipment Use</td>\n",
       "    </tr>\n",
       "    <tr>\n",
       "      <th>1524362</th>\n",
       "      <td>65.0</td>\n",
       "      <td>Equipment Use</td>\n",
       "    </tr>\n",
       "    <tr>\n",
       "      <th>1524378</th>\n",
       "      <td>6.0</td>\n",
       "      <td>Equipment Use</td>\n",
       "    </tr>\n",
       "    <tr>\n",
       "      <th>1524381</th>\n",
       "      <td>10.0</td>\n",
       "      <td>Debris Burning</td>\n",
       "    </tr>\n",
       "  </tbody>\n",
       "</table>\n",
       "</div>"
      ],
      "text/plain": [
       "         FIRE_SIZE STAT_CAUSE_DESCR\n",
       "1470827        0.1            Arson\n",
       "1470830        2.0    Equipment Use\n",
       "1524362       65.0    Equipment Use\n",
       "1524378        6.0    Equipment Use\n",
       "1524381       10.0   Debris Burning"
      ]
     },
     "execution_count": 114,
     "metadata": {},
     "output_type": "execute_result"
    }
   ],
   "source": [
    "fire_size_df = data_df[['FIRE_SIZE','STAT_CAUSE_DESCR']]\n",
    "fire_size_df.head()"
   ]
  },
  {
   "cell_type": "code",
   "execution_count": 270,
   "metadata": {
    "ExecuteTime": {
     "end_time": "2021-05-12T16:34:46.475142Z",
     "start_time": "2021-05-12T16:34:46.417470Z"
    }
   },
   "outputs": [
    {
     "data": {
      "text/html": [
       "<div>\n",
       "<style scoped>\n",
       "    .dataframe tbody tr th:only-of-type {\n",
       "        vertical-align: middle;\n",
       "    }\n",
       "\n",
       "    .dataframe tbody tr th {\n",
       "        vertical-align: top;\n",
       "    }\n",
       "\n",
       "    .dataframe thead th {\n",
       "        text-align: right;\n",
       "    }\n",
       "</style>\n",
       "<table border=\"1\" class=\"dataframe\">\n",
       "  <thead>\n",
       "    <tr style=\"text-align: right;\">\n",
       "      <th></th>\n",
       "      <th>Children</th>\n",
       "      <th>Railroad</th>\n",
       "      <th>Miscellaneous</th>\n",
       "      <th>Lightning</th>\n",
       "      <th>Debris Burning</th>\n",
       "      <th>Smoking</th>\n",
       "      <th>Campfire</th>\n",
       "      <th>Powerline</th>\n",
       "      <th>Arson</th>\n",
       "      <th>Equipment Use</th>\n",
       "    </tr>\n",
       "  </thead>\n",
       "  <tbody>\n",
       "    <tr>\n",
       "      <th>count</th>\n",
       "      <td>86.000000</td>\n",
       "      <td>40.000000</td>\n",
       "      <td>2109.000000</td>\n",
       "      <td>636.000000</td>\n",
       "      <td>1961.000000</td>\n",
       "      <td>230.000000</td>\n",
       "      <td>89.000000</td>\n",
       "      <td>582.000000</td>\n",
       "      <td>441.000000</td>\n",
       "      <td>1205.000000</td>\n",
       "    </tr>\n",
       "    <tr>\n",
       "      <th>mean</th>\n",
       "      <td>7.039535</td>\n",
       "      <td>15.331250</td>\n",
       "      <td>461.494561</td>\n",
       "      <td>868.082374</td>\n",
       "      <td>21.559424</td>\n",
       "      <td>183.917957</td>\n",
       "      <td>7.550225</td>\n",
       "      <td>202.932371</td>\n",
       "      <td>23.288957</td>\n",
       "      <td>124.992830</td>\n",
       "    </tr>\n",
       "    <tr>\n",
       "      <th>std</th>\n",
       "      <td>20.586940</td>\n",
       "      <td>41.235036</td>\n",
       "      <td>8312.203793</td>\n",
       "      <td>8381.881641</td>\n",
       "      <td>238.021435</td>\n",
       "      <td>2703.139716</td>\n",
       "      <td>19.809428</td>\n",
       "      <td>1700.940139</td>\n",
       "      <td>107.194424</td>\n",
       "      <td>1266.054184</td>\n",
       "    </tr>\n",
       "    <tr>\n",
       "      <th>min</th>\n",
       "      <td>0.010000</td>\n",
       "      <td>0.250000</td>\n",
       "      <td>0.010000</td>\n",
       "      <td>0.010000</td>\n",
       "      <td>0.010000</td>\n",
       "      <td>0.010000</td>\n",
       "      <td>0.010000</td>\n",
       "      <td>0.010000</td>\n",
       "      <td>0.010000</td>\n",
       "      <td>0.010000</td>\n",
       "    </tr>\n",
       "    <tr>\n",
       "      <th>25%</th>\n",
       "      <td>0.312500</td>\n",
       "      <td>0.500000</td>\n",
       "      <td>0.500000</td>\n",
       "      <td>2.000000</td>\n",
       "      <td>0.500000</td>\n",
       "      <td>0.500000</td>\n",
       "      <td>0.500000</td>\n",
       "      <td>1.000000</td>\n",
       "      <td>1.000000</td>\n",
       "      <td>1.000000</td>\n",
       "    </tr>\n",
       "    <tr>\n",
       "      <th>50%</th>\n",
       "      <td>1.000000</td>\n",
       "      <td>1.000000</td>\n",
       "      <td>1.000000</td>\n",
       "      <td>10.000000</td>\n",
       "      <td>1.000000</td>\n",
       "      <td>1.000000</td>\n",
       "      <td>1.000000</td>\n",
       "      <td>2.000000</td>\n",
       "      <td>1.000000</td>\n",
       "      <td>2.000000</td>\n",
       "    </tr>\n",
       "    <tr>\n",
       "      <th>75%</th>\n",
       "      <td>2.000000</td>\n",
       "      <td>6.750000</td>\n",
       "      <td>5.000000</td>\n",
       "      <td>57.000000</td>\n",
       "      <td>3.000000</td>\n",
       "      <td>2.000000</td>\n",
       "      <td>4.000000</td>\n",
       "      <td>10.000000</td>\n",
       "      <td>5.000000</td>\n",
       "      <td>10.000000</td>\n",
       "    </tr>\n",
       "    <tr>\n",
       "      <th>max</th>\n",
       "      <td>125.000000</td>\n",
       "      <td>250.000000</td>\n",
       "      <td>314444.000000</td>\n",
       "      <td>158308.000000</td>\n",
       "      <td>8255.000000</td>\n",
       "      <td>41000.000000</td>\n",
       "      <td>130.000000</td>\n",
       "      <td>30814.000000</td>\n",
       "      <td>1700.000000</td>\n",
       "      <td>24000.000000</td>\n",
       "    </tr>\n",
       "  </tbody>\n",
       "</table>\n",
       "</div>"
      ],
      "text/plain": [
       "         Children    Railroad  Miscellaneous      Lightning  Debris Burning  \\\n",
       "count   86.000000   40.000000    2109.000000     636.000000     1961.000000   \n",
       "mean     7.039535   15.331250     461.494561     868.082374       21.559424   \n",
       "std     20.586940   41.235036    8312.203793    8381.881641      238.021435   \n",
       "min      0.010000    0.250000       0.010000       0.010000        0.010000   \n",
       "25%      0.312500    0.500000       0.500000       2.000000        0.500000   \n",
       "50%      1.000000    1.000000       1.000000      10.000000        1.000000   \n",
       "75%      2.000000    6.750000       5.000000      57.000000        3.000000   \n",
       "max    125.000000  250.000000  314444.000000  158308.000000     8255.000000   \n",
       "\n",
       "            Smoking    Campfire     Powerline        Arson  Equipment Use  \n",
       "count    230.000000   89.000000    582.000000   441.000000    1205.000000  \n",
       "mean     183.917957    7.550225    202.932371    23.288957     124.992830  \n",
       "std     2703.139716   19.809428   1700.940139   107.194424    1266.054184  \n",
       "min        0.010000    0.010000      0.010000     0.010000       0.010000  \n",
       "25%        0.500000    0.500000      1.000000     1.000000       1.000000  \n",
       "50%        1.000000    1.000000      2.000000     1.000000       2.000000  \n",
       "75%        2.000000    4.000000     10.000000     5.000000      10.000000  \n",
       "max    41000.000000  130.000000  30814.000000  1700.000000   24000.000000  "
      ]
     },
     "execution_count": 270,
     "metadata": {},
     "output_type": "execute_result"
    }
   ],
   "source": [
    "causes = list(set(data_df.STAT_CAUSE_DESCR))\n",
    "\n",
    "\n",
    "summary_stats_list = []\n",
    "\n",
    "for i in causes:\n",
    "    stats = fire_size_df[fire_size_df.STAT_CAUSE_DESCR == i].describe()\n",
    "    summary_stats_list.append(stats)\n",
    "                         \n",
    "summary_stats_df = pd.concat(summary_stats_list, axis = 1)\n",
    "\n",
    "summary_stats_df.columns = causes\n",
    "\n",
    "summary_stats_df"
   ]
  },
  {
   "cell_type": "markdown",
   "metadata": {},
   "source": [
    "# Using Unsupervised Learning Methods To Discover Featurs"
   ]
  },
  {
   "cell_type": "code",
   "execution_count": 189,
   "metadata": {
    "ExecuteTime": {
     "end_time": "2021-05-12T15:18:08.942124Z",
     "start_time": "2021-05-12T15:18:08.241618Z"
    }
   },
   "outputs": [
    {
     "data": {
      "image/png": "[encoded data removed]",
      "text/plain": [
       "<Figure size 432x288 with 1 Axes>"
      ]
     },
     "metadata": {},
     "output_type": "display_data"
    }
   ],
   "source": [
    "# use data_df \n",
    "\n",
    "from sklearn.cluster import KMeans\n",
    "\n",
    "\n",
    "X = list(zip(data_df.LATITUDE,data_df.LONGITUDE))\n",
    "\n",
    "from sklearn.metrics import calinski_harabasz_score\n",
    "k_means_3 = KMeans(n_clusters=3).fit(X)\n",
    "k_means_4 = KMeans(n_clusters=4).fit(X)\n",
    "k_means_5 = KMeans(n_clusters=5).fit(X)\n",
    "k_means_6 = KMeans(n_clusters=6).fit(X)\n",
    "k_means_7 = KMeans(n_clusters=7).fit(X)\n",
    "\n",
    "k_list = [k_means_3, k_means_4, k_means_5, k_means_6, k_means_7]\n",
    "\n",
    "wcss_score = []\n",
    "\n",
    "for model in k_list:\n",
    "    labels = model.labels_\n",
    "    wcss_score.append(model.inertia_)\n",
    "\n",
    "    \n",
    "plt.plot([3, 4, 5, 6, 7], wcss_score)\n",
    "plt.xticks([3,4,5,6,7])\n",
    "plt.title('Within Cluster Sum of Squares')\n",
    "plt.ylabel('WCSS')\n",
    "plt.xlabel('K=')\n",
    "plt.show()"
   ]
  },
  {
   "cell_type": "code",
   "execution_count": 190,
   "metadata": {
    "ExecuteTime": {
     "end_time": "2021-05-12T15:18:09.303874Z",
     "start_time": "2021-05-12T15:18:09.263781Z"
    }
   },
   "outputs": [
    {
     "name": "stderr",
     "output_type": "stream",
     "text": [
      "<ipython-input-190-ef8d91d49b6e>:1: SettingWithCopyWarning: \n",
      "A value is trying to be set on a copy of a slice from a DataFrame.\n",
      "Try using .loc[row_indexer,col_indexer] = value instead\n",
      "\n",
      "See the caveats in the documentation: https://pandas.pydata.org/pandas-docs/stable/user_guide/indexing.html#returning-a-view-versus-a-copy\n",
      "  data_df['clusters'] = k_means_6.predict(X)\n"
     ]
    },
    {
     "data": {
      "text/plain": [
       "[{'Children': Counter({0: 13, 3: 23, 4: 21, 5: 4, 2: 17, 1: 8})},\n",
       " {'Railroad': Counter({0: 10, 4: 5, 3: 6, 5: 9, 2: 1, 1: 9})},\n",
       " {'Miscellaneous': Counter({0: 545, 4: 403, 3: 505, 5: 85, 1: 384, 2: 187})},\n",
       " {'Lightning': Counter({0: 92, 4: 39, 3: 55, 5: 123, 2: 141, 1: 186})},\n",
       " {'Debris Burning': Counter({4: 323, 0: 565, 3: 517, 5: 16, 2: 479, 1: 61})},\n",
       " {'Smoking': Counter({4: 28, 0: 57, 3: 73, 5: 16, 2: 33, 1: 23})},\n",
       " {'Campfire': Counter({4: 17, 0: 28, 3: 19, 5: 1, 2: 17, 1: 7})},\n",
       " {'Powerline': Counter({4: 61, 0: 116, 3: 114, 5: 50, 1: 139, 2: 102})},\n",
       " {'Arson': Counter({4: 46, 0: 104, 3: 102, 5: 18, 1: 15, 2: 156})},\n",
       " {'Fireworks': Counter({2: 2})},\n",
       " {'Equipment Use': Counter({4: 221, 0: 286, 3: 247, 5: 109, 1: 290, 2: 52})}]"
      ]
     },
     "execution_count": 190,
     "metadata": {},
     "output_type": "execute_result"
    }
   ],
   "source": [
    "data_df['clusters'] = k_means_6.predict(X)\n",
    "\n",
    "cluster_cause_df = data_df[['clusters','STAT_CAUSE_DESCR']]\n",
    "\n",
    "from collections import Counter\n",
    "\n",
    "causes_cluster_dict_list = [{i: Counter(cluster_cause_df[cluster_cause_df.STAT_CAUSE_DESCR == i].clusters)}\n",
    "                       for i in set(cluster_cause_df.STAT_CAUSE_DESCR)]\n",
    "\n",
    "causes_cluster_dict_list"
   ]
  },
  {
   "cell_type": "code",
   "execution_count": 191,
   "metadata": {
    "ExecuteTime": {
     "end_time": "2021-05-12T15:18:09.965782Z",
     "start_time": "2021-05-12T15:18:09.959063Z"
    }
   },
   "outputs": [
    {
     "name": "stderr",
     "output_type": "stream",
     "text": [
      "/Users/jonathansilverman/opt/anaconda3/lib/python3.8/site-packages/scipy/stats/stats.py:2500: RuntimeWarning: invalid value encountered in true_divide\n",
      "  return (a - mns) / sstd\n"
     ]
    }
   ],
   "source": [
    "values_normal = []\n",
    "clusters = list(range(4))\n",
    "\n",
    "for i in causes_cluster_dict_list:\n",
    "    for k, v in i.items():\n",
    "        #stats.zscore(list(v.values()))\n",
    "        values_normal.append(stats.zscore(list(v.values())))\n",
    "\n",
    "\n",
    "causes = set(cluster_cause_df.STAT_CAUSE_DESCR)\n",
    "\n",
    "\n",
    "dict_1_list = []\n",
    "\n",
    "for i in values_normal:\n",
    "        dict_1_list.append(dict(zip(clusters,i)))\n",
    "        \n",
    "causes_cluster_dict_normalized = dict(zip(causes, dict_1_list))"
   ]
  },
  {
   "cell_type": "code",
   "execution_count": 192,
   "metadata": {
    "ExecuteTime": {
     "end_time": "2021-05-12T15:18:10.334487Z",
     "start_time": "2021-05-12T15:18:10.328075Z"
    }
   },
   "outputs": [
    {
     "name": "stdout",
     "output_type": "stream",
     "text": [
      "Fires from  Children  mostly NOT found in cluster  3\n",
      "Fires from  Miscellaneous  mostly NOT found in cluster  3\n",
      "Fires from  Smoking  mostly ARE found in cluster  2\n",
      "Fires from  Campfire  mostly ARE found in cluster  1\n",
      "Fires from  Campfire  mostly NOT found in cluster  3\n"
     ]
    }
   ],
   "source": [
    "for cause in set(cluster_cause_df.STAT_CAUSE_DESCR):\n",
    "\n",
    "    for k, v in causes_cluster_dict_normalized[cause].items():\n",
    "        if v <= -1.5:\n",
    "            print('Fires from ', cause, ' mostly NOT found in cluster ', k)\n",
    "        elif v >= 1.5:\n",
    "            print('Fires from ', cause, ' mostly ARE found in cluster ', k)\n",
    "        else:\n",
    "            None"
   ]
  },
  {
   "cell_type": "markdown",
   "metadata": {},
   "source": [
    "Get Distances of from all clusters as a feature. One of the drawbacks of this is that this won't generalize to states outside of TEXAS. "
   ]
  },
  {
   "cell_type": "code",
   "execution_count": 193,
   "metadata": {
    "ExecuteTime": {
     "end_time": "2021-05-12T15:18:11.383366Z",
     "start_time": "2021-05-12T15:18:11.378468Z"
    }
   },
   "outputs": [
    {
     "name": "stderr",
     "output_type": "stream",
     "text": [
      "<ipython-input-193-258346018248>:1: SettingWithCopyWarning: \n",
      "A value is trying to be set on a copy of a slice from a DataFrame.\n",
      "Try using .loc[row_indexer,col_indexer] = value instead\n",
      "\n",
      "See the caveats in the documentation: https://pandas.pydata.org/pandas-docs/stable/user_guide/indexing.html#returning-a-view-versus-a-copy\n",
      "  data_df['LAT_radians'] = np.radians(data_df['LATITUDE'])\n",
      "<ipython-input-193-258346018248>:3: SettingWithCopyWarning: \n",
      "A value is trying to be set on a copy of a slice from a DataFrame.\n",
      "Try using .loc[row_indexer,col_indexer] = value instead\n",
      "\n",
      "See the caveats in the documentation: https://pandas.pydata.org/pandas-docs/stable/user_guide/indexing.html#returning-a-view-versus-a-copy\n",
      "  data_df['LONG_radians'] = np.radians(data_df['LONGITUDE'])\n"
     ]
    }
   ],
   "source": [
    "data_df['LAT_radians'] = np.radians(data_df['LATITUDE'])\n",
    "\n",
    "data_df['LONG_radians'] = np.radians(data_df['LONGITUDE'])\n"
   ]
  },
  {
   "cell_type": "code",
   "execution_count": 194,
   "metadata": {
    "ExecuteTime": {
     "end_time": "2021-05-12T15:18:11.833126Z",
     "start_time": "2021-05-12T15:18:11.827962Z"
    }
   },
   "outputs": [
    {
     "data": {
      "text/plain": [
       "[array([ 0.55506468, -1.70826023]),\n",
       " array([ 0.5519876 , -1.78432694]),\n",
       " array([ 0.54105207, -1.64847598]),\n",
       " array([ 0.58130707, -1.6818102 ]),\n",
       " array([ 0.51896556, -1.72364758]),\n",
       " array([ 0.60843555, -1.76063632])]"
      ]
     },
     "execution_count": 194,
     "metadata": {},
     "output_type": "execute_result"
    }
   ],
   "source": [
    "[np.radians(i) for i in k_means_6.cluster_centers_]"
   ]
  },
  {
   "cell_type": "code",
   "execution_count": 195,
   "metadata": {
    "ExecuteTime": {
     "end_time": "2021-05-12T15:18:12.191462Z",
     "start_time": "2021-05-12T15:18:12.185682Z"
    }
   },
   "outputs": [
    {
     "data": {
      "text/plain": [
       "(1470827    0.523599\n",
       " 1470830    0.523599\n",
       " 1524362    0.523599\n",
       " 1524378    0.523599\n",
       " 1524381    0.523599\n",
       "              ...   \n",
       " 1563776    0.541052\n",
       " 1563777    0.541052\n",
       " 1563781    0.558505\n",
       " 1563784    0.558505\n",
       " 1563788    0.558505\n",
       " Name: LAT_radians, Length: 7381, dtype: float64,\n",
       " 1470827   -1.710423\n",
       " 1470830   -1.710423\n",
       " 1524362   -1.710423\n",
       " 1524378   -1.710423\n",
       " 1524381   -1.710423\n",
       "              ...   \n",
       " 1563776   -1.710423\n",
       " 1563777   -1.710423\n",
       " 1563781   -1.710423\n",
       " 1563784   -1.710423\n",
       " 1563788   -1.710423\n",
       " Name: LONG_radians, Length: 7381, dtype: float64)"
      ]
     },
     "execution_count": 195,
     "metadata": {},
     "output_type": "execute_result"
    }
   ],
   "source": [
    "data_df['LAT_radians'],data_df['LONG_radians']"
   ]
  },
  {
   "cell_type": "code",
   "execution_count": 196,
   "metadata": {
    "ExecuteTime": {
     "end_time": "2021-05-12T15:18:13.053652Z",
     "start_time": "2021-05-12T15:18:13.049655Z"
    }
   },
   "outputs": [],
   "source": [
    "def haversian(lat1, lon1, lat2, lon2):\n",
    "    \n",
    "    R = 6373.0\n",
    "    \n",
    "    dlon = lon2 - lon1\n",
    "\n",
    "    dlat = lat2 - lat1\n",
    "\n",
    "    a = sin(dlat / 2)**2 + cos(lat1) * cos(lat2) * sin(dlon / 2)**2\n",
    "\n",
    "    c = 2 * atan2(sqrt(a), sqrt(1 - a))\n",
    "\n",
    "    distance = R * c\n",
    "\n",
    "    return distance"
   ]
  },
  {
   "cell_type": "code",
   "execution_count": 197,
   "metadata": {
    "ExecuteTime": {
     "end_time": "2021-05-12T15:18:13.803089Z",
     "start_time": "2021-05-12T15:18:13.678667Z"
    }
   },
   "outputs": [
    {
     "name": "stderr",
     "output_type": "stream",
     "text": [
      "<ipython-input-197-09d0bad16baa>:12: SettingWithCopyWarning: \n",
      "A value is trying to be set on a copy of a slice from a DataFrame.\n",
      "Try using .loc[row_indexer,col_indexer] = value instead\n",
      "\n",
      "See the caveats in the documentation: https://pandas.pydata.org/pandas-docs/stable/user_guide/indexing.html#returning-a-view-versus-a-copy\n",
      "  data_df['dist_cluster_'+str(k_num)] = [haversian(\n"
     ]
    }
   ],
   "source": [
    "cluster_geo_dict = dict(enumerate([np.radians(i)\n",
    "                                   for i in k_means_6.cluster_centers_]))\n",
    "\n",
    "lat_long_radians = list(\n",
    "    zip(np.radians(data_df.LATITUDE), np.radians(data_df.LONGITUDE)))\n",
    "\n",
    "\n",
    "# get this into a form to make columns easier....\n",
    "# make cluster geo a dictionary an unpack the dictionary,reuse keys which are indexes\n",
    "\n",
    "for k_num in range(6):\n",
    "    data_df['dist_cluster_'+str(k_num)] = [haversian(\n",
    "        i[0], i[-1], cluster_geo_dict[k_num][1], cluster_geo_dict[k_num][-1]) for i in lat_long_radians]"
   ]
  },
  {
   "cell_type": "code",
   "execution_count": 198,
   "metadata": {
    "ExecuteTime": {
     "end_time": "2021-05-12T15:18:14.311383Z",
     "start_time": "2021-05-12T15:18:14.307095Z"
    }
   },
   "outputs": [
    {
     "data": {
      "text/plain": [
       "['dist_cluster_0',\n",
       " 'dist_cluster_1',\n",
       " 'dist_cluster_2',\n",
       " 'dist_cluster_3',\n",
       " 'dist_cluster_4',\n",
       " 'dist_cluster_5']"
      ]
     },
     "execution_count": 198,
     "metadata": {},
     "output_type": "execute_result"
    }
   ],
   "source": [
    "cluster_column_names = ['dist_cluster_'+str(i) for i in range(6)]\n",
    "\n",
    "cluster_column_names"
   ]
  },
  {
   "cell_type": "markdown",
   "metadata": {
    "ExecuteTime": {
     "end_time": "2021-05-04T16:18:26.805686Z",
     "start_time": "2021-05-04T16:18:26.803209Z"
    }
   },
   "source": [
    "\n",
    "\n",
    "\n",
    "\n",
    "# Logistic Classifier"
   ]
  },
  {
   "cell_type": "markdown",
   "metadata": {
    "ExecuteTime": {
     "end_time": "2021-05-04T16:22:01.733315Z",
     "start_time": "2021-05-04T16:22:01.730834Z"
    }
   },
   "source": [
    "### Class Imbalances"
   ]
  },
  {
   "cell_type": "code",
   "execution_count": 199,
   "metadata": {
    "ExecuteTime": {
     "end_time": "2021-05-12T15:18:15.962514Z",
     "start_time": "2021-05-12T15:18:15.956198Z"
    }
   },
   "outputs": [
    {
     "data": {
      "text/plain": [
       "Miscellaneous     0.285734\n",
       "Debris Burning    0.265682\n",
       "Equipment Use     0.163257\n",
       "Lightning         0.086167\n",
       "Powerline         0.078851\n",
       "Arson             0.059748\n",
       "Smoking           0.031161\n",
       "Campfire          0.012058\n",
       "Children          0.011652\n",
       "Railroad          0.005419\n",
       "Fireworks         0.000271\n",
       "Name: STAT_CAUSE_DESCR, dtype: float64"
      ]
     },
     "execution_count": 199,
     "metadata": {},
     "output_type": "execute_result"
    }
   ],
   "source": [
    "data_df.STAT_CAUSE_DESCR.value_counts(normalize = True)\n"
   ]
  },
  {
   "cell_type": "code",
   "execution_count": 200,
   "metadata": {
    "ExecuteTime": {
     "end_time": "2021-05-12T15:18:16.622708Z",
     "start_time": "2021-05-12T15:18:16.616436Z"
    }
   },
   "outputs": [
    {
     "name": "stdout",
     "output_type": "stream",
     "text": [
      "Debris Burning:  0.2656821568893104\n",
      "not Debris Burning:  0.7343178431106896\n"
     ]
    }
   ],
   "source": [
    "print('Debris Burning: ',sum(data_df.STAT_CAUSE_DESCR == 'Debris Burning')/len(data_df))\n",
    "\n",
    "print('not Debris Burning: ',sum(data_df.STAT_CAUSE_DESCR != 'Debris Burning')/len(data_df))"
   ]
  },
  {
   "cell_type": "markdown",
   "metadata": {},
   "source": [
    "## Single Class  - Classifying Debris Burning"
   ]
  },
  {
   "cell_type": "markdown",
   "metadata": {},
   "source": [
    "Was it debris burning, or was it not debris burning?"
   ]
  },
  {
   "cell_type": "code",
   "execution_count": 201,
   "metadata": {
    "ExecuteTime": {
     "end_time": "2021-05-12T15:18:18.525481Z",
     "start_time": "2021-05-12T15:18:18.516942Z"
    }
   },
   "outputs": [
    {
     "name": "stderr",
     "output_type": "stream",
     "text": [
      "<ipython-input-201-eb813113346c>:3: SettingWithCopyWarning: \n",
      "A value is trying to be set on a copy of a slice from a DataFrame.\n",
      "Try using .loc[row_indexer,col_indexer] = value instead\n",
      "\n",
      "See the caveats in the documentation: https://pandas.pydata.org/pandas-docs/stable/user_guide/indexing.html#returning-a-view-versus-a-copy\n",
      "  data_df['target'] = [int(i) for i in target.values]\n"
     ]
    }
   ],
   "source": [
    "target = data_df.STAT_CAUSE_DESCR == 'Debris Burning'\n",
    "\n",
    "data_df['target'] = [int(i) for i in target.values]"
   ]
  },
  {
   "cell_type": "code",
   "execution_count": 202,
   "metadata": {
    "ExecuteTime": {
     "end_time": "2021-05-12T15:18:19.298958Z",
     "start_time": "2021-05-12T15:18:19.285416Z"
    }
   },
   "outputs": [
    {
     "name": "stderr",
     "output_type": "stream",
     "text": [
      "<ipython-input-202-b9ce9b5584a0>:1: SettingWithCopyWarning: \n",
      "A value is trying to be set on a copy of a slice from a DataFrame.\n",
      "Try using .loc[row_indexer,col_indexer] = value instead\n",
      "\n",
      "See the caveats in the documentation: https://pandas.pydata.org/pandas-docs/stable/user_guide/indexing.html#returning-a-view-versus-a-copy\n",
      "  data_df['month'] = [i.month for i in pd.to_datetime(data_df['DISCOVERY_DATE'].values)]\n"
     ]
    }
   ],
   "source": [
    "data_df['month'] = [i.month for i in pd.to_datetime(data_df['DISCOVERY_DATE'].values)]"
   ]
  },
  {
   "cell_type": "code",
   "execution_count": 203,
   "metadata": {
    "ExecuteTime": {
     "end_time": "2021-05-12T15:18:20.495734Z",
     "start_time": "2021-05-12T15:18:20.472662Z"
    }
   },
   "outputs": [
    {
     "data": {
      "text/html": [
       "<div>\n",
       "<style scoped>\n",
       "    .dataframe tbody tr th:only-of-type {\n",
       "        vertical-align: middle;\n",
       "    }\n",
       "\n",
       "    .dataframe tbody tr th {\n",
       "        vertical-align: top;\n",
       "    }\n",
       "\n",
       "    .dataframe thead th {\n",
       "        text-align: right;\n",
       "    }\n",
       "</style>\n",
       "<table border=\"1\" class=\"dataframe\">\n",
       "  <thead>\n",
       "    <tr style=\"text-align: right;\">\n",
       "      <th></th>\n",
       "      <th>OBJECTID</th>\n",
       "      <th>STATE</th>\n",
       "      <th>LATITUDE</th>\n",
       "      <th>LONGITUDE</th>\n",
       "      <th>LAT_LONG</th>\n",
       "      <th>NOAA</th>\n",
       "      <th>DISCOVERY_DATE</th>\n",
       "      <th>DURATION</th>\n",
       "      <th>year</th>\n",
       "      <th>TMAX</th>\n",
       "      <th>...</th>\n",
       "      <th>clusters</th>\n",
       "      <th>LAT_radians</th>\n",
       "      <th>LONG_radians</th>\n",
       "      <th>dist_cluster_0</th>\n",
       "      <th>dist_cluster_1</th>\n",
       "      <th>dist_cluster_2</th>\n",
       "      <th>dist_cluster_3</th>\n",
       "      <th>dist_cluster_4</th>\n",
       "      <th>dist_cluster_5</th>\n",
       "      <th>target</th>\n",
       "    </tr>\n",
       "  </thead>\n",
       "  <tbody>\n",
       "    <tr>\n",
       "      <th>1470827</th>\n",
       "      <td>1470828</td>\n",
       "      <td>TX</td>\n",
       "      <td>30.0</td>\n",
       "      <td>-98.0</td>\n",
       "      <td>(30.0, -98.0)</td>\n",
       "      <td>GHCND:USC00345563</td>\n",
       "      <td>2011-04-06</td>\n",
       "      <td>0</td>\n",
       "      <td>2011</td>\n",
       "      <td>222.0</td>\n",
       "      <td>...</td>\n",
       "      <td>4</td>\n",
       "      <td>0.523599</td>\n",
       "      <td>-1.710423</td>\n",
       "      <td>14223.635184</td>\n",
       "      <td>14704.09995</td>\n",
       "      <td>13841.636214</td>\n",
       "      <td>14054.760597</td>\n",
       "      <td>14321.606817</td>\n",
       "      <td>14555.694304</td>\n",
       "      <td>0</td>\n",
       "    </tr>\n",
       "    <tr>\n",
       "      <th>1470830</th>\n",
       "      <td>1470831</td>\n",
       "      <td>TX</td>\n",
       "      <td>30.0</td>\n",
       "      <td>-98.0</td>\n",
       "      <td>(30.0, -98.0)</td>\n",
       "      <td>GHCND:USC00345563</td>\n",
       "      <td>2011-03-09</td>\n",
       "      <td>0</td>\n",
       "      <td>2011</td>\n",
       "      <td>239.0</td>\n",
       "      <td>...</td>\n",
       "      <td>4</td>\n",
       "      <td>0.523599</td>\n",
       "      <td>-1.710423</td>\n",
       "      <td>14223.635184</td>\n",
       "      <td>14704.09995</td>\n",
       "      <td>13841.636214</td>\n",
       "      <td>14054.760597</td>\n",
       "      <td>14321.606817</td>\n",
       "      <td>14555.694304</td>\n",
       "      <td>0</td>\n",
       "    </tr>\n",
       "    <tr>\n",
       "      <th>1524362</th>\n",
       "      <td>1524363</td>\n",
       "      <td>TX</td>\n",
       "      <td>30.0</td>\n",
       "      <td>-98.0</td>\n",
       "      <td>(30.0, -98.0)</td>\n",
       "      <td>GHCND:USC00345563</td>\n",
       "      <td>2011-01-06</td>\n",
       "      <td>0</td>\n",
       "      <td>2011</td>\n",
       "      <td>139.0</td>\n",
       "      <td>...</td>\n",
       "      <td>4</td>\n",
       "      <td>0.523599</td>\n",
       "      <td>-1.710423</td>\n",
       "      <td>14223.635184</td>\n",
       "      <td>14704.09995</td>\n",
       "      <td>13841.636214</td>\n",
       "      <td>14054.760597</td>\n",
       "      <td>14321.606817</td>\n",
       "      <td>14555.694304</td>\n",
       "      <td>0</td>\n",
       "    </tr>\n",
       "    <tr>\n",
       "      <th>1524378</th>\n",
       "      <td>1524379</td>\n",
       "      <td>TX</td>\n",
       "      <td>30.0</td>\n",
       "      <td>-98.0</td>\n",
       "      <td>(30.0, -98.0)</td>\n",
       "      <td>GHCND:USC00345563</td>\n",
       "      <td>2011-01-19</td>\n",
       "      <td>1</td>\n",
       "      <td>2011</td>\n",
       "      <td>106.0</td>\n",
       "      <td>...</td>\n",
       "      <td>4</td>\n",
       "      <td>0.523599</td>\n",
       "      <td>-1.710423</td>\n",
       "      <td>14223.635184</td>\n",
       "      <td>14704.09995</td>\n",
       "      <td>13841.636214</td>\n",
       "      <td>14054.760597</td>\n",
       "      <td>14321.606817</td>\n",
       "      <td>14555.694304</td>\n",
       "      <td>0</td>\n",
       "    </tr>\n",
       "    <tr>\n",
       "      <th>1524381</th>\n",
       "      <td>1524382</td>\n",
       "      <td>TX</td>\n",
       "      <td>30.0</td>\n",
       "      <td>-98.0</td>\n",
       "      <td>(30.0, -98.0)</td>\n",
       "      <td>GHCND:USC00345563</td>\n",
       "      <td>2011-01-25</td>\n",
       "      <td>0</td>\n",
       "      <td>2011</td>\n",
       "      <td>128.0</td>\n",
       "      <td>...</td>\n",
       "      <td>4</td>\n",
       "      <td>0.523599</td>\n",
       "      <td>-1.710423</td>\n",
       "      <td>14223.635184</td>\n",
       "      <td>14704.09995</td>\n",
       "      <td>13841.636214</td>\n",
       "      <td>14054.760597</td>\n",
       "      <td>14321.606817</td>\n",
       "      <td>14555.694304</td>\n",
       "      <td>1</td>\n",
       "    </tr>\n",
       "  </tbody>\n",
       "</table>\n",
       "<p>5 rows × 25 columns</p>\n",
       "</div>"
      ],
      "text/plain": [
       "         OBJECTID STATE  LATITUDE  LONGITUDE       LAT_LONG  \\\n",
       "1470827   1470828    TX      30.0      -98.0  (30.0, -98.0)   \n",
       "1470830   1470831    TX      30.0      -98.0  (30.0, -98.0)   \n",
       "1524362   1524363    TX      30.0      -98.0  (30.0, -98.0)   \n",
       "1524378   1524379    TX      30.0      -98.0  (30.0, -98.0)   \n",
       "1524381   1524382    TX      30.0      -98.0  (30.0, -98.0)   \n",
       "\n",
       "                      NOAA DISCOVERY_DATE  DURATION  year   TMAX  ...  \\\n",
       "1470827  GHCND:USC00345563     2011-04-06         0  2011  222.0  ...   \n",
       "1470830  GHCND:USC00345563     2011-03-09         0  2011  239.0  ...   \n",
       "1524362  GHCND:USC00345563     2011-01-06         0  2011  139.0  ...   \n",
       "1524378  GHCND:USC00345563     2011-01-19         1  2011  106.0  ...   \n",
       "1524381  GHCND:USC00345563     2011-01-25         0  2011  128.0  ...   \n",
       "\n",
       "        clusters  LAT_radians  LONG_radians  dist_cluster_0  dist_cluster_1  \\\n",
       "1470827        4     0.523599     -1.710423    14223.635184     14704.09995   \n",
       "1470830        4     0.523599     -1.710423    14223.635184     14704.09995   \n",
       "1524362        4     0.523599     -1.710423    14223.635184     14704.09995   \n",
       "1524378        4     0.523599     -1.710423    14223.635184     14704.09995   \n",
       "1524381        4     0.523599     -1.710423    14223.635184     14704.09995   \n",
       "\n",
       "         dist_cluster_2  dist_cluster_3  dist_cluster_4  dist_cluster_5  \\\n",
       "1470827    13841.636214    14054.760597    14321.606817    14555.694304   \n",
       "1470830    13841.636214    14054.760597    14321.606817    14555.694304   \n",
       "1524362    13841.636214    14054.760597    14321.606817    14555.694304   \n",
       "1524378    13841.636214    14054.760597    14321.606817    14555.694304   \n",
       "1524381    13841.636214    14054.760597    14321.606817    14555.694304   \n",
       "\n",
       "         target  \n",
       "1470827       0  \n",
       "1470830       0  \n",
       "1524362       0  \n",
       "1524378       0  \n",
       "1524381       1  \n",
       "\n",
       "[5 rows x 25 columns]"
      ]
     },
     "execution_count": 203,
     "metadata": {},
     "output_type": "execute_result"
    }
   ],
   "source": [
    "data_df.head()"
   ]
  },
  {
   "cell_type": "markdown",
   "metadata": {},
   "source": [
    "### Baseline Model (without exogenous features)"
   ]
  },
  {
   "cell_type": "markdown",
   "metadata": {
    "ExecuteTime": {
     "end_time": "2021-05-05T15:38:42.382481Z",
     "start_time": "2021-05-05T15:38:42.380309Z"
    }
   },
   "source": [
    "#### y"
   ]
  },
  {
   "cell_type": "code",
   "execution_count": 204,
   "metadata": {
    "ExecuteTime": {
     "end_time": "2021-05-12T15:18:22.825373Z",
     "start_time": "2021-05-12T15:18:22.822785Z"
    }
   },
   "outputs": [],
   "source": [
    "y = data_df.target"
   ]
  },
  {
   "cell_type": "markdown",
   "metadata": {
    "ExecuteTime": {
     "end_time": "2021-05-05T15:38:22.263191Z",
     "start_time": "2021-05-05T15:38:22.261044Z"
    }
   },
   "source": [
    "#### X"
   ]
  },
  {
   "cell_type": "markdown",
   "metadata": {},
   "source": [
    "####  Continous Features"
   ]
  },
  {
   "cell_type": "code",
   "execution_count": 205,
   "metadata": {
    "ExecuteTime": {
     "end_time": "2021-05-12T15:18:36.712931Z",
     "start_time": "2021-05-12T15:18:36.710340Z"
    }
   },
   "outputs": [],
   "source": [
    "continous = ['LATITUDE', 'LONGITUDE', 'DISCOVERY_DOY', 'DISCOVERY_TIME', 'FIRE_SIZE']"
   ]
  },
  {
   "cell_type": "markdown",
   "metadata": {},
   "source": [
    "#### Categorical Features"
   ]
  },
  {
   "cell_type": "code",
   "execution_count": 206,
   "metadata": {
    "ExecuteTime": {
     "end_time": "2021-05-12T15:18:38.114861Z",
     "start_time": "2021-05-12T15:18:38.107164Z"
    }
   },
   "outputs": [],
   "source": [
    "categorical = ['month']\n",
    "\n",
    "X_categorical = pd.get_dummies(data_df[categorical], prefix='month')"
   ]
  },
  {
   "cell_type": "markdown",
   "metadata": {},
   "source": [
    "###  Normalize the data"
   ]
  },
  {
   "cell_type": "code",
   "execution_count": 207,
   "metadata": {
    "ExecuteTime": {
     "end_time": "2021-05-12T15:18:40.030747Z",
     "start_time": "2021-05-12T15:18:40.012740Z"
    }
   },
   "outputs": [],
   "source": [
    "X_continous = data_df[continous].fillna(value=0)\n",
    "\n",
    "for column in X_continous.columns:\n",
    "\n",
    "    # Subtract the minimum and divide by the range forcing a scale of 0 to 1 for each feature\n",
    "\n",
    "    X_continous[column] = (X_continous[column] - min(X_continous[column])) / \\\n",
    "        (max(X_continous[column]) - min(X_continous[column]))"
   ]
  },
  {
   "cell_type": "markdown",
   "metadata": {
    "ExecuteTime": {
     "end_time": "2021-05-07T00:00:44.484462Z",
     "start_time": "2021-05-07T00:00:44.482301Z"
    }
   },
   "source": [
    "### Concatenate continous and categorical dataframes"
   ]
  },
  {
   "cell_type": "code",
   "execution_count": 208,
   "metadata": {
    "ExecuteTime": {
     "end_time": "2021-05-12T15:18:41.009705Z",
     "start_time": "2021-05-12T15:18:41.005448Z"
    }
   },
   "outputs": [],
   "source": [
    "X = pd.concat([X_continous,X_categorical], axis = 1)"
   ]
  },
  {
   "cell_type": "markdown",
   "metadata": {
    "ExecuteTime": {
     "end_time": "2021-05-05T15:36:06.243625Z",
     "start_time": "2021-05-05T15:36:06.241520Z"
    }
   },
   "source": [
    "##  Train-Test Split"
   ]
  },
  {
   "cell_type": "code",
   "execution_count": 209,
   "metadata": {
    "ExecuteTime": {
     "end_time": "2021-05-12T15:18:42.208269Z",
     "start_time": "2021-05-12T15:18:42.206306Z"
    }
   },
   "outputs": [],
   "source": [
    "### Class Imbalance Requires SMOTE"
   ]
  },
  {
   "cell_type": "code",
   "execution_count": 210,
   "metadata": {
    "ExecuteTime": {
     "end_time": "2021-05-12T15:18:43.406027Z",
     "start_time": "2021-05-12T15:18:43.191023Z"
    }
   },
   "outputs": [
    {
     "data": {
      "image/png": "[encoded data removed]",
      "text/plain": [
       "<Figure size 432x288 with 1 Axes>"
      ]
     },
     "metadata": {},
     "output_type": "display_data"
    }
   ],
   "source": [
    "barplot_df = pd.DataFrame({'Causes': list(data_df.STAT_CAUSE_DESCR.value_counts(\n",
    "    normalize=True).index), 'Proportion': list(data_df.STAT_CAUSE_DESCR.value_counts(normalize=True).values)})\n",
    "\n",
    "\n",
    "barplot_df = barplot_df.sort_values(\n",
    "    ['Proportion'], ascending=False).reset_index(drop=True)\n",
    "\n",
    "chart = sns.barplot(\n",
    "    x='Causes',\n",
    "    y='Proportion',\n",
    "    data=barplot_df,\n",
    "    estimator=sum,\n",
    "    ci=None,\n",
    "\n",
    "    color='#69b3a2'\n",
    ")\n",
    "\n",
    "\n",
    "chart.set_xticklabels(chart.get_xticklabels(),\n",
    "                      rotation=45, horizontalalignment='right')\n",
    "plt.title('Causes of Wildfires in the Texas in 2011');"
   ]
  },
  {
   "cell_type": "code",
   "execution_count": 211,
   "metadata": {
    "ExecuteTime": {
     "end_time": "2021-05-12T15:18:44.385977Z",
     "start_time": "2021-05-12T15:18:44.368182Z"
    }
   },
   "outputs": [],
   "source": [
    "#deal with imbalances\n",
    "\n",
    "X_train, X_test, y_train, y_test = train_test_split(X, y, random_state=42)\n",
    "\n",
    "smote = SMOTE()\n",
    "\n",
    "X_train_resampled, y_train_resampled = smote.fit_resample(X_train, y_train) "
   ]
  },
  {
   "cell_type": "markdown",
   "metadata": {},
   "source": [
    "## Fit the model"
   ]
  },
  {
   "cell_type": "code",
   "execution_count": 212,
   "metadata": {
    "ExecuteTime": {
     "end_time": "2021-05-12T15:18:45.499897Z",
     "start_time": "2021-05-12T15:18:45.481663Z"
    }
   },
   "outputs": [],
   "source": [
    "logreg = LogisticRegression(fit_intercept=False, C=1e12, solver='liblinear')\n",
    "\n",
    "model_log = logreg.fit(X_train_resampled, y_train_resampled)"
   ]
  },
  {
   "cell_type": "markdown",
   "metadata": {},
   "source": [
    " ## Predict"
   ]
  },
  {
   "cell_type": "code",
   "execution_count": 213,
   "metadata": {
    "ExecuteTime": {
     "end_time": "2021-05-12T15:18:46.480238Z",
     "start_time": "2021-05-12T15:18:46.473285Z"
    }
   },
   "outputs": [],
   "source": [
    "y_hat_train = model_log.predict(X_train)\n",
    "\n",
    "y_hat_test = model_log.predict(X_test)"
   ]
  },
  {
   "cell_type": "markdown",
   "metadata": {
    "ExecuteTime": {
     "end_time": "2021-05-05T15:51:37.649718Z",
     "start_time": "2021-05-05T15:51:37.646321Z"
    }
   },
   "source": [
    "## How many times was the classifier correct on the training set?"
   ]
  },
  {
   "cell_type": "code",
   "execution_count": 214,
   "metadata": {
    "ExecuteTime": {
     "end_time": "2021-05-12T15:18:47.573930Z",
     "start_time": "2021-05-12T15:18:47.568853Z"
    }
   },
   "outputs": [
    {
     "name": "stdout",
     "output_type": "stream",
     "text": [
      "0    0.62168\n",
      "1    0.37832\n",
      "Name: target, dtype: float64\n"
     ]
    }
   ],
   "source": [
    "residuals = np.abs(y_train - y_hat_train)\n",
    "\n",
    "\n",
    "print(pd.Series(residuals).value_counts(normalize=True))"
   ]
  },
  {
   "cell_type": "markdown",
   "metadata": {
    "ExecuteTime": {
     "end_time": "2021-05-05T15:53:06.262872Z",
     "start_time": "2021-05-05T15:53:06.259663Z"
    }
   },
   "source": [
    "## How many times was the classifier correct on the testing set?"
   ]
  },
  {
   "cell_type": "code",
   "execution_count": 215,
   "metadata": {
    "ExecuteTime": {
     "end_time": "2021-05-12T15:18:48.935045Z",
     "start_time": "2021-05-12T15:18:48.929504Z"
    }
   },
   "outputs": [
    {
     "name": "stdout",
     "output_type": "stream",
     "text": [
      "0    0.638137\n",
      "1    0.361863\n",
      "Name: target, dtype: float64\n"
     ]
    }
   ],
   "source": [
    "residuals = np.abs(y_test - y_hat_test)\n",
    "\n",
    "\n",
    "print(pd.Series(residuals).value_counts(normalize=True))"
   ]
  },
  {
   "cell_type": "markdown",
   "metadata": {
    "ExecuteTime": {
     "end_time": "2021-05-05T18:49:42.424708Z",
     "start_time": "2021-05-05T18:49:42.422168Z"
    }
   },
   "source": [
    "## Model with One Exogenous Feature"
   ]
  },
  {
   "cell_type": "code",
   "execution_count": 216,
   "metadata": {
    "ExecuteTime": {
     "end_time": "2021-05-12T15:18:50.221955Z",
     "start_time": "2021-05-12T15:18:50.156188Z"
    }
   },
   "outputs": [
    {
     "name": "stdout",
     "output_type": "stream",
     "text": [
      "0    0.692141\n",
      "1    0.307859\n",
      "Name: target, dtype: float64\n",
      "\n",
      "\n",
      "0    0.691766\n",
      "1    0.308234\n",
      "Name: target, dtype: float64\n"
     ]
    }
   ],
   "source": [
    "continous = ['LATITUDE', 'LONGITUDE',\n",
    "             'DISCOVERY_DOY', 'DISCOVERY_TIME', 'TMAX', 'FIRE_SIZE']\n",
    "\n",
    "X_continous = data_df[continous].fillna(value=0)\n",
    "\n",
    "for column in X_continous.columns:\n",
    "\n",
    "    X_continous[column] = (X_continous[column] - min(X_continous[column])) / \\\n",
    "        (max(X_continous[column]) - min(X_continous[column]))\n",
    "\n",
    "X = pd.concat([X_continous, X_categorical], axis=1)\n",
    "\n",
    "X_train, X_test, y_train, y_test = train_test_split(X, y, random_state=42)\n",
    "\n",
    "smote = SMOTE()\n",
    "\n",
    "X_train_resampled, y_train_resampled = smote.fit_resample(X_train, y_train)\n",
    "\n",
    "logreg = LogisticRegression(fit_intercept=False, C=1e12, solver='liblinear')\n",
    "\n",
    "model_log = logreg.fit(X_train_resampled, y_train_resampled)\n",
    "\n",
    "y_hat_train = model_log.predict(X_train)\n",
    "\n",
    "y_hat_test = model_log.predict(X_test)\n",
    "\n",
    "\n",
    "residuals = np.abs(y_train - y_hat_train)\n",
    "\n",
    "\n",
    "print(pd.Series(residuals).value_counts(normalize=True))\n",
    "\n",
    "print('\\n')\n",
    "\n",
    "residuals = np.abs(y_test - y_hat_test)\n",
    "\n",
    "\n",
    "print(pd.Series(residuals).value_counts(normalize=True))"
   ]
  },
  {
   "cell_type": "markdown",
   "metadata": {
    "ExecuteTime": {
     "end_time": "2021-05-09T18:57:32.859375Z",
     "start_time": "2021-05-09T18:57:32.855743Z"
    }
   },
   "source": [
    "---------------------------------------"
   ]
  },
  {
   "cell_type": "markdown",
   "metadata": {
    "ExecuteTime": {
     "end_time": "2021-05-09T19:41:59.821009Z",
     "start_time": "2021-05-09T19:41:59.818673Z"
    }
   },
   "source": [
    "# Get Rid of Classes Less than 6 or SMOTE Fails"
   ]
  },
  {
   "cell_type": "code",
   "execution_count": 217,
   "metadata": {
    "ExecuteTime": {
     "end_time": "2021-05-12T15:18:52.017986Z",
     "start_time": "2021-05-12T15:18:52.011031Z"
    }
   },
   "outputs": [
    {
     "data": {
      "text/plain": [
       "Miscellaneous     2109\n",
       "Debris Burning    1961\n",
       "Equipment Use     1205\n",
       "Lightning          636\n",
       "Powerline          582\n",
       "Arson              441\n",
       "Smoking            230\n",
       "Campfire            89\n",
       "Children            86\n",
       "Railroad            40\n",
       "Fireworks            2\n",
       "Name: STAT_CAUSE_DESCR, dtype: int64"
      ]
     },
     "execution_count": 217,
     "metadata": {},
     "output_type": "execute_result"
    }
   ],
   "source": [
    "data_df.STAT_CAUSE_DESCR.value_counts()"
   ]
  },
  {
   "cell_type": "code",
   "execution_count": 218,
   "metadata": {
    "ExecuteTime": {
     "end_time": "2021-05-12T15:18:52.711424Z",
     "start_time": "2021-05-12T15:18:52.706491Z"
    }
   },
   "outputs": [],
   "source": [
    "data_df = data_df[data_df.STAT_CAUSE_DESCR != 'Fireworks']"
   ]
  },
  {
   "cell_type": "markdown",
   "metadata": {},
   "source": [
    "# Building a Model for Every Wildfire Cause"
   ]
  },
  {
   "cell_type": "code",
   "execution_count": 222,
   "metadata": {
    "ExecuteTime": {
     "end_time": "2021-05-12T15:21:06.495512Z",
     "start_time": "2021-05-12T15:21:05.612278Z"
    }
   },
   "outputs": [
    {
     "name": "stderr",
     "output_type": "stream",
     "text": [
      "<ipython-input-222-d35e000b6ac3>:5: SettingWithCopyWarning: \n",
      "A value is trying to be set on a copy of a slice from a DataFrame.\n",
      "Try using .loc[row_indexer,col_indexer] = value instead\n",
      "\n",
      "See the caveats in the documentation: https://pandas.pydata.org/pandas-docs/stable/user_guide/indexing.html#returning-a-view-versus-a-copy\n",
      "  data_df['target'] = [int(j) for j in array]\n",
      "<ipython-input-222-d35e000b6ac3>:5: SettingWithCopyWarning: \n",
      "A value is trying to be set on a copy of a slice from a DataFrame.\n",
      "Try using .loc[row_indexer,col_indexer] = value instead\n",
      "\n",
      "See the caveats in the documentation: https://pandas.pydata.org/pandas-docs/stable/user_guide/indexing.html#returning-a-view-versus-a-copy\n",
      "  data_df['target'] = [int(j) for j in array]\n",
      "<ipython-input-222-d35e000b6ac3>:5: SettingWithCopyWarning: \n",
      "A value is trying to be set on a copy of a slice from a DataFrame.\n",
      "Try using .loc[row_indexer,col_indexer] = value instead\n",
      "\n",
      "See the caveats in the documentation: https://pandas.pydata.org/pandas-docs/stable/user_guide/indexing.html#returning-a-view-versus-a-copy\n",
      "  data_df['target'] = [int(j) for j in array]\n"
     ]
    },
    {
     "name": "stdout",
     "output_type": "stream",
     "text": [
      "Children    0.67\n",
      "Railroad    0.72\n",
      "Miscellaneous    0.53\n"
     ]
    },
    {
     "name": "stderr",
     "output_type": "stream",
     "text": [
      "<ipython-input-222-d35e000b6ac3>:5: SettingWithCopyWarning: \n",
      "A value is trying to be set on a copy of a slice from a DataFrame.\n",
      "Try using .loc[row_indexer,col_indexer] = value instead\n",
      "\n",
      "See the caveats in the documentation: https://pandas.pydata.org/pandas-docs/stable/user_guide/indexing.html#returning-a-view-versus-a-copy\n",
      "  data_df['target'] = [int(j) for j in array]\n",
      "<ipython-input-222-d35e000b6ac3>:5: SettingWithCopyWarning: \n",
      "A value is trying to be set on a copy of a slice from a DataFrame.\n",
      "Try using .loc[row_indexer,col_indexer] = value instead\n",
      "\n",
      "See the caveats in the documentation: https://pandas.pydata.org/pandas-docs/stable/user_guide/indexing.html#returning-a-view-versus-a-copy\n",
      "  data_df['target'] = [int(j) for j in array]\n",
      "<ipython-input-222-d35e000b6ac3>:5: SettingWithCopyWarning: \n",
      "A value is trying to be set on a copy of a slice from a DataFrame.\n",
      "Try using .loc[row_indexer,col_indexer] = value instead\n",
      "\n",
      "See the caveats in the documentation: https://pandas.pydata.org/pandas-docs/stable/user_guide/indexing.html#returning-a-view-versus-a-copy\n",
      "  data_df['target'] = [int(j) for j in array]\n"
     ]
    },
    {
     "name": "stdout",
     "output_type": "stream",
     "text": [
      "Lightning    0.73\n",
      "Debris Burning    0.68\n",
      "Smoking    0.59\n"
     ]
    },
    {
     "name": "stderr",
     "output_type": "stream",
     "text": [
      "<ipython-input-222-d35e000b6ac3>:5: SettingWithCopyWarning: \n",
      "A value is trying to be set on a copy of a slice from a DataFrame.\n",
      "Try using .loc[row_indexer,col_indexer] = value instead\n",
      "\n",
      "See the caveats in the documentation: https://pandas.pydata.org/pandas-docs/stable/user_guide/indexing.html#returning-a-view-versus-a-copy\n",
      "  data_df['target'] = [int(j) for j in array]\n",
      "<ipython-input-222-d35e000b6ac3>:5: SettingWithCopyWarning: \n",
      "A value is trying to be set on a copy of a slice from a DataFrame.\n",
      "Try using .loc[row_indexer,col_indexer] = value instead\n",
      "\n",
      "See the caveats in the documentation: https://pandas.pydata.org/pandas-docs/stable/user_guide/indexing.html#returning-a-view-versus-a-copy\n",
      "  data_df['target'] = [int(j) for j in array]\n",
      "<ipython-input-222-d35e000b6ac3>:5: SettingWithCopyWarning: \n",
      "A value is trying to be set on a copy of a slice from a DataFrame.\n",
      "Try using .loc[row_indexer,col_indexer] = value instead\n",
      "\n",
      "See the caveats in the documentation: https://pandas.pydata.org/pandas-docs/stable/user_guide/indexing.html#returning-a-view-versus-a-copy\n",
      "  data_df['target'] = [int(j) for j in array]\n"
     ]
    },
    {
     "name": "stdout",
     "output_type": "stream",
     "text": [
      "Campfire    0.7\n",
      "Powerline    0.58\n",
      "Arson    0.63\n",
      "Equipment Use    0.63\n"
     ]
    },
    {
     "name": "stderr",
     "output_type": "stream",
     "text": [
      "<ipython-input-222-d35e000b6ac3>:5: SettingWithCopyWarning: \n",
      "A value is trying to be set on a copy of a slice from a DataFrame.\n",
      "Try using .loc[row_indexer,col_indexer] = value instead\n",
      "\n",
      "See the caveats in the documentation: https://pandas.pydata.org/pandas-docs/stable/user_guide/indexing.html#returning-a-view-versus-a-copy\n",
      "  data_df['target'] = [int(j) for j in array]\n"
     ]
    }
   ],
   "source": [
    "for i in set(data_df.STAT_CAUSE_DESCR):\n",
    " \n",
    "    array = data_df.STAT_CAUSE_DESCR == i\n",
    "\n",
    "    data_df['target'] = [int(j) for j in array] \n",
    "    \n",
    "    y = data_df.target\n",
    "\n",
    "    continous = ['LATITUDE', 'LONGITUDE',\n",
    "                 'DISCOVERY_DOY', 'DISCOVERY_TIME', 'TMAX', 'FIRE_SIZE']\n",
    "\n",
    "    X_continous = data_df[continous].fillna(value=0)\n",
    "\n",
    "    for column in X_continous.columns:\n",
    "\n",
    "        X_continous[column] = (X_continous[column] - min(X_continous[column]))\n",
    "        (max(X_continous[column]) - min(X_continous[column]))\n",
    "\n",
    "    X_categorical = pd.get_dummies(data_df[categorical], prefix='month')\n",
    "\n",
    "    X = pd.concat([X_continous, X_categorical], axis=1)\n",
    "\n",
    "    X_train, X_test, y_train, y_test = train_test_split(X, y, random_state=42)\n",
    "\n",
    "    smote = SMOTE()\n",
    "\n",
    "    X_train_resampled, y_train_resampled = smote.fit_resample(X_train, y_train)\n",
    "\n",
    "    logreg = LogisticRegression(\n",
    "        fit_intercept=False, C=1e12, solver='liblinear')\n",
    "\n",
    "    model_log = logreg.fit(X_train_resampled, y_train_resampled)\n",
    "\n",
    "    y_hat_train = model_log.predict(X_train)\n",
    "\n",
    "    y_hat_test = model_log.predict(X_test)\n",
    "\n",
    "    # residuals = np.abs(y_train - y_hat_train)\n",
    "\n",
    "    # print(pd.Series(residuals).value_counts(normalize=True))\n",
    "\n",
    "    residuals = np.abs(y_test - y_hat_test)\n",
    "\n",
    "    print(i, '  ', round(pd.Series(residuals).value_counts(normalize=True)[0],2))"
   ]
  },
  {
   "cell_type": "markdown",
   "metadata": {
    "ExecuteTime": {
     "end_time": "2021-05-09T17:35:05.222369Z",
     "start_time": "2021-05-09T17:35:05.220152Z"
    }
   },
   "source": [
    "# Model with one exogenous feature and features derived form unsupervised learning"
   ]
  },
  {
   "cell_type": "code",
   "execution_count": 223,
   "metadata": {
    "ExecuteTime": {
     "end_time": "2021-05-12T15:21:12.412744Z",
     "start_time": "2021-05-12T15:21:10.826604Z"
    }
   },
   "outputs": [
    {
     "name": "stderr",
     "output_type": "stream",
     "text": [
      "<ipython-input-223-9fe8d884eb5f>:7: SettingWithCopyWarning: \n",
      "A value is trying to be set on a copy of a slice from a DataFrame.\n",
      "Try using .loc[row_indexer,col_indexer] = value instead\n",
      "\n",
      "See the caveats in the documentation: https://pandas.pydata.org/pandas-docs/stable/user_guide/indexing.html#returning-a-view-versus-a-copy\n",
      "  data_df['target'] = [int(j) for j in array]\n",
      "<ipython-input-223-9fe8d884eb5f>:7: SettingWithCopyWarning: \n",
      "A value is trying to be set on a copy of a slice from a DataFrame.\n",
      "Try using .loc[row_indexer,col_indexer] = value instead\n",
      "\n",
      "See the caveats in the documentation: https://pandas.pydata.org/pandas-docs/stable/user_guide/indexing.html#returning-a-view-versus-a-copy\n",
      "  data_df['target'] = [int(j) for j in array]\n"
     ]
    },
    {
     "name": "stdout",
     "output_type": "stream",
     "text": [
      "Children    0.7\n",
      "Railroad    0.75\n"
     ]
    },
    {
     "name": "stderr",
     "output_type": "stream",
     "text": [
      "<ipython-input-223-9fe8d884eb5f>:7: SettingWithCopyWarning: \n",
      "A value is trying to be set on a copy of a slice from a DataFrame.\n",
      "Try using .loc[row_indexer,col_indexer] = value instead\n",
      "\n",
      "See the caveats in the documentation: https://pandas.pydata.org/pandas-docs/stable/user_guide/indexing.html#returning-a-view-versus-a-copy\n",
      "  data_df['target'] = [int(j) for j in array]\n",
      "<ipython-input-223-9fe8d884eb5f>:7: SettingWithCopyWarning: \n",
      "A value is trying to be set on a copy of a slice from a DataFrame.\n",
      "Try using .loc[row_indexer,col_indexer] = value instead\n",
      "\n",
      "See the caveats in the documentation: https://pandas.pydata.org/pandas-docs/stable/user_guide/indexing.html#returning-a-view-versus-a-copy\n",
      "  data_df['target'] = [int(j) for j in array]\n"
     ]
    },
    {
     "name": "stdout",
     "output_type": "stream",
     "text": [
      "Miscellaneous    0.52\n",
      "Lightning    0.77\n"
     ]
    },
    {
     "name": "stderr",
     "output_type": "stream",
     "text": [
      "<ipython-input-223-9fe8d884eb5f>:7: SettingWithCopyWarning: \n",
      "A value is trying to be set on a copy of a slice from a DataFrame.\n",
      "Try using .loc[row_indexer,col_indexer] = value instead\n",
      "\n",
      "See the caveats in the documentation: https://pandas.pydata.org/pandas-docs/stable/user_guide/indexing.html#returning-a-view-versus-a-copy\n",
      "  data_df['target'] = [int(j) for j in array]\n",
      "<ipython-input-223-9fe8d884eb5f>:7: SettingWithCopyWarning: \n",
      "A value is trying to be set on a copy of a slice from a DataFrame.\n",
      "Try using .loc[row_indexer,col_indexer] = value instead\n",
      "\n",
      "See the caveats in the documentation: https://pandas.pydata.org/pandas-docs/stable/user_guide/indexing.html#returning-a-view-versus-a-copy\n",
      "  data_df['target'] = [int(j) for j in array]\n"
     ]
    },
    {
     "name": "stdout",
     "output_type": "stream",
     "text": [
      "Debris Burning    0.67\n",
      "Smoking    0.66\n"
     ]
    },
    {
     "name": "stderr",
     "output_type": "stream",
     "text": [
      "<ipython-input-223-9fe8d884eb5f>:7: SettingWithCopyWarning: \n",
      "A value is trying to be set on a copy of a slice from a DataFrame.\n",
      "Try using .loc[row_indexer,col_indexer] = value instead\n",
      "\n",
      "See the caveats in the documentation: https://pandas.pydata.org/pandas-docs/stable/user_guide/indexing.html#returning-a-view-versus-a-copy\n",
      "  data_df['target'] = [int(j) for j in array]\n",
      "<ipython-input-223-9fe8d884eb5f>:7: SettingWithCopyWarning: \n",
      "A value is trying to be set on a copy of a slice from a DataFrame.\n",
      "Try using .loc[row_indexer,col_indexer] = value instead\n",
      "\n",
      "See the caveats in the documentation: https://pandas.pydata.org/pandas-docs/stable/user_guide/indexing.html#returning-a-view-versus-a-copy\n",
      "  data_df['target'] = [int(j) for j in array]\n"
     ]
    },
    {
     "name": "stdout",
     "output_type": "stream",
     "text": [
      "Campfire    0.74\n",
      "Powerline    0.61\n"
     ]
    },
    {
     "name": "stderr",
     "output_type": "stream",
     "text": [
      "<ipython-input-223-9fe8d884eb5f>:7: SettingWithCopyWarning: \n",
      "A value is trying to be set on a copy of a slice from a DataFrame.\n",
      "Try using .loc[row_indexer,col_indexer] = value instead\n",
      "\n",
      "See the caveats in the documentation: https://pandas.pydata.org/pandas-docs/stable/user_guide/indexing.html#returning-a-view-versus-a-copy\n",
      "  data_df['target'] = [int(j) for j in array]\n",
      "<ipython-input-223-9fe8d884eb5f>:7: SettingWithCopyWarning: \n",
      "A value is trying to be set on a copy of a slice from a DataFrame.\n",
      "Try using .loc[row_indexer,col_indexer] = value instead\n",
      "\n",
      "See the caveats in the documentation: https://pandas.pydata.org/pandas-docs/stable/user_guide/indexing.html#returning-a-view-versus-a-copy\n",
      "  data_df['target'] = [int(j) for j in array]\n"
     ]
    },
    {
     "name": "stdout",
     "output_type": "stream",
     "text": [
      "Arson    0.66\n",
      "Equipment Use    0.63\n"
     ]
    }
   ],
   "source": [
    "# remember to normalize continous features\n",
    "\n",
    "for i in set(data_df.STAT_CAUSE_DESCR):\n",
    "\n",
    "    array = data_df.STAT_CAUSE_DESCR == i\n",
    "\n",
    "    data_df['target'] = [int(j) for j in array]\n",
    "\n",
    "    y = data_df.target\n",
    "\n",
    "    continous = ['LATITUDE', 'LONGITUDE',\n",
    "                 'DISCOVERY_DOY', 'DISCOVERY_TIME', 'TMAX', 'FIRE_SIZE','dist_cluster_0', \n",
    "                 'dist_cluster_1',\n",
    "                 'dist_cluster_2',\n",
    "                 'dist_cluster_3',\n",
    "                 'dist_cluster_4',\n",
    "                 'dist_cluster_5']\n",
    "\n",
    "    X_continous = data_df[continous].fillna(value=0)\n",
    "\n",
    "    for column in X_continous.columns:\n",
    "\n",
    "        X_continous[column] = (X_continous[column] - min(X_continous[column]))\n",
    "        (max(X_continous[column]) - min(X_continous[column]))\n",
    "\n",
    "    X_categorical = pd.get_dummies(data_df[categorical], prefix='month')\n",
    "\n",
    "    X = pd.concat([X_continous, X_categorical], axis=1)\n",
    "\n",
    "    X_train, X_test, y_train, y_test = train_test_split(X, y, random_state=42)\n",
    "\n",
    "    smote = SMOTE()\n",
    "\n",
    "    X_train_resampled, y_train_resampled = smote.fit_resample(X_train, y_train)\n",
    "\n",
    "    logreg = LogisticRegression(\n",
    "        fit_intercept=False, C=1e12, solver='liblinear')\n",
    "\n",
    "    model_log = logreg.fit(X_train_resampled, y_train_resampled)\n",
    "\n",
    "    y_hat_train = model_log.predict(X_train)\n",
    "\n",
    "    y_hat_test = model_log.predict(X_test)\n",
    "\n",
    "    # residuals = np.abs(y_train - y_hat_train)\n",
    "\n",
    "    # print(pd.Series(residuals).value_counts(normalize=True))\n",
    "\n",
    "    residuals = np.abs(y_test - y_hat_test)\n",
    "\n",
    "    print(i, '  ', round(\n",
    "        pd.Series(residuals).value_counts(normalize=True)[0], 2))"
   ]
  },
  {
   "cell_type": "markdown",
   "metadata": {},
   "source": [
    "-----------------------------------------------------------------------------"
   ]
  },
  {
   "cell_type": "markdown",
   "metadata": {
    "ExecuteTime": {
     "end_time": "2021-05-12T15:26:23.092639Z",
     "start_time": "2021-05-12T15:26:23.090441Z"
    }
   },
   "source": [
    "# Results"
   ]
  },
  {
   "cell_type": "code",
   "execution_count": 89,
   "metadata": {
    "ExecuteTime": {
     "end_time": "2021-05-11T22:42:53.299740Z",
     "start_time": "2021-05-11T22:42:53.295307Z"
    }
   },
   "outputs": [
    {
     "ename": "SyntaxError",
     "evalue": "invalid syntax (<ipython-input-89-a9b30feca3e9>, line 4)",
     "output_type": "error",
     "traceback": [
      "\u001b[0;36m  File \u001b[0;32m\"<ipython-input-89-a9b30feca3e9>\"\u001b[0;36m, line \u001b[0;32m4\u001b[0m\n\u001b[0;31m    Smoking           0.59\u001b[0m\n\u001b[0m                      ^\u001b[0m\n\u001b[0;31mSyntaxError\u001b[0m\u001b[0;31m:\u001b[0m invalid syntax\n"
     ]
    }
   ],
   "source": [
    "#One Exogenous Variable\n",
    "\n",
    "\n",
    "Children          0.67\n",
    "Railroad          0.72\n",
    "Miscellaneous     0.53\n",
    "Lightning         0.73\n",
    "Debris Burning    0.68\n",
    "Smoking           0.59\n",
    "Campfire          0.7\n",
    "Powerline         0.58\n",
    "Arson             0.63\n",
    "Equipment Use     0.63\n"
   ]
  },
  {
   "cell_type": "code",
   "execution_count": null,
   "metadata": {
    "ExecuteTime": {
     "end_time": "2021-05-11T22:42:53.302801Z",
     "start_time": "2021-05-11T22:22:42.442Z"
    }
   },
   "outputs": [],
   "source": [
    "#With Distance from Clusters As Feature:\n",
    "\n",
    "\n",
    "Children          0.7\n",
    "Railroad          0.75\n",
    "Miscellaneous     0.52\n",
    "Lightning         0.77\n",
    "Debris Burning    0.67\n",
    "Smoking           0.66\n",
    "Campfire          0.74\n",
    "Powerline         0.61\n",
    "Arson             0.66\n",
    "Equipment Use     0.63"
   ]
  },
  {
   "cell_type": "markdown",
   "metadata": {},
   "source": [
    "----------------"
   ]
  }
 ],
 "metadata": {
  "kernelspec": {
   "display_name": "Python 3",
   "language": "python",
   "name": "python3"
  },
  "language_info": {
   "codemirror_mode": {
    "name": "ipython",
    "version": 3
   },
   "file_extension": ".py",
   "mimetype": "text/x-python",
   "name": "python",
   "nbconvert_exporter": "python",
   "pygments_lexer": "ipython3",
   "version": "3.8.5"
  },
  "toc": {
   "base_numbering": 1,
   "nav_menu": {},
   "number_sections": true,
   "sideBar": true,
   "skip_h1_title": false,
   "title_cell": "Table of Contents",
   "title_sidebar": "Contents",
   "toc_cell": false,
   "toc_position": {
    "height": "calc(100% - 180px)",
    "left": "10px",
    "top": "150px",
    "width": "193.59375px"
   },
   "toc_section_display": true,
   "toc_window_display": true
  }
 },
 "nbformat": 4,
 "nbformat_minor": 4
}
